{
  "nbformat": 4,
  "nbformat_minor": 0,
  "metadata": {
    "colab": {
      "name": "Salary_Prediction.ipynb",
      "provenance": [],
      "collapsed_sections": [],
      "authorship_tag": "ABX9TyMUTv6lpokT5oixV7JKE818"
    },
    "kernelspec": {
      "display_name": "Python 3",
      "name": "python3"
    },
    "language_info": {
      "name": "python"
    }
  },
  "cells": [
    {
      "cell_type": "markdown",
      "metadata": {
        "id": "5bmIGuWuf4pB"
      },
      "source": [
        "# Salary Prediction "
      ]
    },
    {
      "cell_type": "markdown",
      "metadata": {
        "id": "1GfCclQVc23E"
      },
      "source": [
        "# EDA"
      ]
    },
    {
      "cell_type": "markdown",
      "metadata": {
        "id": "LDREAZmDdCpq"
      },
      "source": [
        "## Import Packages"
      ]
    },
    {
      "cell_type": "code",
      "metadata": {
        "id": "xErJriGTdNax"
      },
      "source": [
        "import numpy as np\n",
        "import pandas as pd\n",
        "import matplotlib.pyplot as plt\n",
        "import matplotlib as matplot\n",
        "import seaborn as sns\n",
        "import warnings\n",
        "warnings.simplefilter('ignore')\n",
        "%matplotlib inline"
      ],
      "execution_count": null,
      "outputs": []
    },
    {
      "cell_type": "markdown",
      "metadata": {
        "id": "hcy87yQGdydI"
      },
      "source": [
        "## Obtain data"
      ]
    },
    {
      "cell_type": "code",
      "metadata": {
        "id": "RNhNms-qzxze"
      },
      "source": [
        "train_salaries = pd.read_csv(\"https://raw.githubusercontent.com/min-tee/Salary-Prediction/main/datasets/train_salaries.csv\")\n",
        "train_features = pd.read_csv(\"https://raw.githubusercontent.com/min-tee/Salary-Prediction/main/datasets/train_features.zip\")\n",
        "test_features = pd.read_csv(\"https://raw.githubusercontent.com/min-tee/Salary-Prediction/main/datasets/test_features.zip\")"
      ],
      "execution_count": null,
      "outputs": []
    },
    {
      "cell_type": "markdown",
      "metadata": {
        "id": "VraLVlR8fBwF"
      },
      "source": [
        "## Clean data"
      ]
    },
    {
      "cell_type": "code",
      "metadata": {
        "colab": {
          "base_uri": "https://localhost:8080/",
          "height": 204
        },
        "id": "2gty1ZomIILG",
        "outputId": "d59eea9d-c889-4b69-dbba-40015341b228"
      },
      "source": [
        "train_features.head()"
      ],
      "execution_count": null,
      "outputs": [
        {
          "output_type": "execute_result",
          "data": {
            "text/html": [
              "<div>\n",
              "<style scoped>\n",
              "    .dataframe tbody tr th:only-of-type {\n",
              "        vertical-align: middle;\n",
              "    }\n",
              "\n",
              "    .dataframe tbody tr th {\n",
              "        vertical-align: top;\n",
              "    }\n",
              "\n",
              "    .dataframe thead th {\n",
              "        text-align: right;\n",
              "    }\n",
              "</style>\n",
              "<table border=\"1\" class=\"dataframe\">\n",
              "  <thead>\n",
              "    <tr style=\"text-align: right;\">\n",
              "      <th></th>\n",
              "      <th>jobId</th>\n",
              "      <th>companyId</th>\n",
              "      <th>jobType</th>\n",
              "      <th>degree</th>\n",
              "      <th>major</th>\n",
              "      <th>industry</th>\n",
              "      <th>yearsExperience</th>\n",
              "      <th>milesFromMetropolis</th>\n",
              "    </tr>\n",
              "  </thead>\n",
              "  <tbody>\n",
              "    <tr>\n",
              "      <th>0</th>\n",
              "      <td>JOB1362684407687</td>\n",
              "      <td>COMP37</td>\n",
              "      <td>CFO</td>\n",
              "      <td>MASTERS</td>\n",
              "      <td>MATH</td>\n",
              "      <td>HEALTH</td>\n",
              "      <td>10</td>\n",
              "      <td>83</td>\n",
              "    </tr>\n",
              "    <tr>\n",
              "      <th>1</th>\n",
              "      <td>JOB1362684407688</td>\n",
              "      <td>COMP19</td>\n",
              "      <td>CEO</td>\n",
              "      <td>HIGH_SCHOOL</td>\n",
              "      <td>NONE</td>\n",
              "      <td>WEB</td>\n",
              "      <td>3</td>\n",
              "      <td>73</td>\n",
              "    </tr>\n",
              "    <tr>\n",
              "      <th>2</th>\n",
              "      <td>JOB1362684407689</td>\n",
              "      <td>COMP52</td>\n",
              "      <td>VICE_PRESIDENT</td>\n",
              "      <td>DOCTORAL</td>\n",
              "      <td>PHYSICS</td>\n",
              "      <td>HEALTH</td>\n",
              "      <td>10</td>\n",
              "      <td>38</td>\n",
              "    </tr>\n",
              "    <tr>\n",
              "      <th>3</th>\n",
              "      <td>JOB1362684407690</td>\n",
              "      <td>COMP38</td>\n",
              "      <td>MANAGER</td>\n",
              "      <td>DOCTORAL</td>\n",
              "      <td>CHEMISTRY</td>\n",
              "      <td>AUTO</td>\n",
              "      <td>8</td>\n",
              "      <td>17</td>\n",
              "    </tr>\n",
              "    <tr>\n",
              "      <th>4</th>\n",
              "      <td>JOB1362684407691</td>\n",
              "      <td>COMP7</td>\n",
              "      <td>VICE_PRESIDENT</td>\n",
              "      <td>BACHELORS</td>\n",
              "      <td>PHYSICS</td>\n",
              "      <td>FINANCE</td>\n",
              "      <td>8</td>\n",
              "      <td>16</td>\n",
              "    </tr>\n",
              "  </tbody>\n",
              "</table>\n",
              "</div>"
            ],
            "text/plain": [
              "              jobId companyId  ... yearsExperience milesFromMetropolis\n",
              "0  JOB1362684407687    COMP37  ...              10                  83\n",
              "1  JOB1362684407688    COMP19  ...               3                  73\n",
              "2  JOB1362684407689    COMP52  ...              10                  38\n",
              "3  JOB1362684407690    COMP38  ...               8                  17\n",
              "4  JOB1362684407691     COMP7  ...               8                  16\n",
              "\n",
              "[5 rows x 8 columns]"
            ]
          },
          "metadata": {},
          "execution_count": 31
        }
      ]
    },
    {
      "cell_type": "code",
      "metadata": {
        "colab": {
          "base_uri": "https://localhost:8080/",
          "height": 204
        },
        "id": "QusHU7eQJhfh",
        "outputId": "0fc10faf-0659-4222-f3c4-21ffc0aae41b"
      },
      "source": [
        "train_salaries.head()"
      ],
      "execution_count": null,
      "outputs": [
        {
          "output_type": "execute_result",
          "data": {
            "text/html": [
              "<div>\n",
              "<style scoped>\n",
              "    .dataframe tbody tr th:only-of-type {\n",
              "        vertical-align: middle;\n",
              "    }\n",
              "\n",
              "    .dataframe tbody tr th {\n",
              "        vertical-align: top;\n",
              "    }\n",
              "\n",
              "    .dataframe thead th {\n",
              "        text-align: right;\n",
              "    }\n",
              "</style>\n",
              "<table border=\"1\" class=\"dataframe\">\n",
              "  <thead>\n",
              "    <tr style=\"text-align: right;\">\n",
              "      <th></th>\n",
              "      <th>jobId</th>\n",
              "      <th>salary</th>\n",
              "    </tr>\n",
              "  </thead>\n",
              "  <tbody>\n",
              "    <tr>\n",
              "      <th>0</th>\n",
              "      <td>JOB1362684407687</td>\n",
              "      <td>130</td>\n",
              "    </tr>\n",
              "    <tr>\n",
              "      <th>1</th>\n",
              "      <td>JOB1362684407688</td>\n",
              "      <td>101</td>\n",
              "    </tr>\n",
              "    <tr>\n",
              "      <th>2</th>\n",
              "      <td>JOB1362684407689</td>\n",
              "      <td>137</td>\n",
              "    </tr>\n",
              "    <tr>\n",
              "      <th>3</th>\n",
              "      <td>JOB1362684407690</td>\n",
              "      <td>142</td>\n",
              "    </tr>\n",
              "    <tr>\n",
              "      <th>4</th>\n",
              "      <td>JOB1362684407691</td>\n",
              "      <td>163</td>\n",
              "    </tr>\n",
              "  </tbody>\n",
              "</table>\n",
              "</div>"
            ],
            "text/plain": [
              "              jobId  salary\n",
              "0  JOB1362684407687     130\n",
              "1  JOB1362684407688     101\n",
              "2  JOB1362684407689     137\n",
              "3  JOB1362684407690     142\n",
              "4  JOB1362684407691     163"
            ]
          },
          "metadata": {},
          "execution_count": 32
        }
      ]
    },
    {
      "cell_type": "code",
      "metadata": {
        "colab": {
          "base_uri": "https://localhost:8080/",
          "height": 204
        },
        "id": "l_zfdHCGJo-l",
        "outputId": "7207acd4-92d2-47e8-c12a-f84a897e1c8a"
      },
      "source": [
        "# merge features and targets on jobID\n",
        "train_dataset = pd.merge(train_features, train_salaries, on = 'jobId')\n",
        "train_dataset.head()"
      ],
      "execution_count": null,
      "outputs": [
        {
          "output_type": "execute_result",
          "data": {
            "text/html": [
              "<div>\n",
              "<style scoped>\n",
              "    .dataframe tbody tr th:only-of-type {\n",
              "        vertical-align: middle;\n",
              "    }\n",
              "\n",
              "    .dataframe tbody tr th {\n",
              "        vertical-align: top;\n",
              "    }\n",
              "\n",
              "    .dataframe thead th {\n",
              "        text-align: right;\n",
              "    }\n",
              "</style>\n",
              "<table border=\"1\" class=\"dataframe\">\n",
              "  <thead>\n",
              "    <tr style=\"text-align: right;\">\n",
              "      <th></th>\n",
              "      <th>jobId</th>\n",
              "      <th>companyId</th>\n",
              "      <th>jobType</th>\n",
              "      <th>degree</th>\n",
              "      <th>major</th>\n",
              "      <th>industry</th>\n",
              "      <th>yearsExperience</th>\n",
              "      <th>milesFromMetropolis</th>\n",
              "      <th>salary</th>\n",
              "    </tr>\n",
              "  </thead>\n",
              "  <tbody>\n",
              "    <tr>\n",
              "      <th>0</th>\n",
              "      <td>JOB1362684407687</td>\n",
              "      <td>COMP37</td>\n",
              "      <td>CFO</td>\n",
              "      <td>MASTERS</td>\n",
              "      <td>MATH</td>\n",
              "      <td>HEALTH</td>\n",
              "      <td>10</td>\n",
              "      <td>83</td>\n",
              "      <td>130</td>\n",
              "    </tr>\n",
              "    <tr>\n",
              "      <th>1</th>\n",
              "      <td>JOB1362684407688</td>\n",
              "      <td>COMP19</td>\n",
              "      <td>CEO</td>\n",
              "      <td>HIGH_SCHOOL</td>\n",
              "      <td>NONE</td>\n",
              "      <td>WEB</td>\n",
              "      <td>3</td>\n",
              "      <td>73</td>\n",
              "      <td>101</td>\n",
              "    </tr>\n",
              "    <tr>\n",
              "      <th>2</th>\n",
              "      <td>JOB1362684407689</td>\n",
              "      <td>COMP52</td>\n",
              "      <td>VICE_PRESIDENT</td>\n",
              "      <td>DOCTORAL</td>\n",
              "      <td>PHYSICS</td>\n",
              "      <td>HEALTH</td>\n",
              "      <td>10</td>\n",
              "      <td>38</td>\n",
              "      <td>137</td>\n",
              "    </tr>\n",
              "    <tr>\n",
              "      <th>3</th>\n",
              "      <td>JOB1362684407690</td>\n",
              "      <td>COMP38</td>\n",
              "      <td>MANAGER</td>\n",
              "      <td>DOCTORAL</td>\n",
              "      <td>CHEMISTRY</td>\n",
              "      <td>AUTO</td>\n",
              "      <td>8</td>\n",
              "      <td>17</td>\n",
              "      <td>142</td>\n",
              "    </tr>\n",
              "    <tr>\n",
              "      <th>4</th>\n",
              "      <td>JOB1362684407691</td>\n",
              "      <td>COMP7</td>\n",
              "      <td>VICE_PRESIDENT</td>\n",
              "      <td>BACHELORS</td>\n",
              "      <td>PHYSICS</td>\n",
              "      <td>FINANCE</td>\n",
              "      <td>8</td>\n",
              "      <td>16</td>\n",
              "      <td>163</td>\n",
              "    </tr>\n",
              "  </tbody>\n",
              "</table>\n",
              "</div>"
            ],
            "text/plain": [
              "              jobId companyId  ... milesFromMetropolis salary\n",
              "0  JOB1362684407687    COMP37  ...                  83    130\n",
              "1  JOB1362684407688    COMP19  ...                  73    101\n",
              "2  JOB1362684407689    COMP52  ...                  38    137\n",
              "3  JOB1362684407690    COMP38  ...                  17    142\n",
              "4  JOB1362684407691     COMP7  ...                  16    163\n",
              "\n",
              "[5 rows x 9 columns]"
            ]
          },
          "metadata": {},
          "execution_count": 33
        }
      ]
    },
    {
      "cell_type": "code",
      "metadata": {
        "colab": {
          "base_uri": "https://localhost:8080/"
        },
        "id": "XYcmD9m2f7NW",
        "outputId": "353d7d0c-89aa-4337-85a0-e440c4e14104"
      },
      "source": [
        "# dimension of data set\n",
        "train_dataset.shape"
      ],
      "execution_count": null,
      "outputs": [
        {
          "output_type": "execute_result",
          "data": {
            "text/plain": [
              "(1000000, 9)"
            ]
          },
          "metadata": {},
          "execution_count": 34
        }
      ]
    },
    {
      "cell_type": "code",
      "metadata": {
        "colab": {
          "base_uri": "https://localhost:8080/"
        },
        "id": "Xdww-vbeevcZ",
        "outputId": "142912c5-12c3-43cf-fd81-56c1690a9eb8"
      },
      "source": [
        "# see if there are any missing values\n",
        "train_dataset.isnull().sum()"
      ],
      "execution_count": null,
      "outputs": [
        {
          "output_type": "execute_result",
          "data": {
            "text/plain": [
              "jobId                  0\n",
              "companyId              0\n",
              "jobType                0\n",
              "degree                 0\n",
              "major                  0\n",
              "industry               0\n",
              "yearsExperience        0\n",
              "milesFromMetropolis    0\n",
              "salary                 0\n",
              "dtype: int64"
            ]
          },
          "metadata": {},
          "execution_count": 35
        }
      ]
    },
    {
      "cell_type": "code",
      "metadata": {
        "colab": {
          "base_uri": "https://localhost:8080/"
        },
        "id": "QLvt9lHPdrf4",
        "outputId": "1636a0d7-1a42-4692-93f5-e758f8cc3efe"
      },
      "source": [
        "# confirmation check for any missing or null values\n",
        "train_dataset.isnull().values.any()"
      ],
      "execution_count": null,
      "outputs": [
        {
          "output_type": "execute_result",
          "data": {
            "text/plain": [
              "False"
            ]
          },
          "metadata": {},
          "execution_count": 36
        }
      ]
    },
    {
      "cell_type": "code",
      "metadata": {
        "colab": {
          "base_uri": "https://localhost:8080/"
        },
        "id": "S2PlT2P9fM8x",
        "outputId": "1ebf0e6e-b2cc-40bc-a024-5e0cc8766ce7"
      },
      "source": [
        "# see records and data types\n",
        "train_dataset.info()"
      ],
      "execution_count": null,
      "outputs": [
        {
          "output_type": "stream",
          "name": "stdout",
          "text": [
            "<class 'pandas.core.frame.DataFrame'>\n",
            "Int64Index: 1000000 entries, 0 to 999999\n",
            "Data columns (total 9 columns):\n",
            " #   Column               Non-Null Count    Dtype \n",
            "---  ------               --------------    ----- \n",
            " 0   jobId                1000000 non-null  object\n",
            " 1   companyId            1000000 non-null  object\n",
            " 2   jobType              1000000 non-null  object\n",
            " 3   degree               1000000 non-null  object\n",
            " 4   major                1000000 non-null  object\n",
            " 5   industry             1000000 non-null  object\n",
            " 6   yearsExperience      1000000 non-null  int64 \n",
            " 7   milesFromMetropolis  1000000 non-null  int64 \n",
            " 8   salary               1000000 non-null  int64 \n",
            "dtypes: int64(3), object(6)\n",
            "memory usage: 76.3+ MB\n"
          ]
        }
      ]
    },
    {
      "cell_type": "code",
      "metadata": {
        "colab": {
          "base_uri": "https://localhost:8080/"
        },
        "id": "QZd95t3P313C",
        "outputId": "76d0d10a-8190-4e33-dc08-482225c74d18"
      },
      "source": [
        "# check for duplicates\n",
        "train_dataset.duplicated().sum()"
      ],
      "execution_count": null,
      "outputs": [
        {
          "output_type": "execute_result",
          "data": {
            "text/plain": [
              "0"
            ]
          },
          "metadata": {},
          "execution_count": 38
        }
      ]
    },
    {
      "cell_type": "code",
      "metadata": {
        "colab": {
          "base_uri": "https://localhost:8080/"
        },
        "id": "BEC1FFSxMdYB",
        "outputId": "6671fcb6-0ab5-46c8-9111-d92fbf69ba56"
      },
      "source": [
        "test_features.duplicated().sum()"
      ],
      "execution_count": null,
      "outputs": [
        {
          "output_type": "execute_result",
          "data": {
            "text/plain": [
              "0"
            ]
          },
          "metadata": {},
          "execution_count": 39
        }
      ]
    },
    {
      "cell_type": "code",
      "metadata": {
        "colab": {
          "base_uri": "https://localhost:8080/"
        },
        "id": "b6YUORljMrNW",
        "outputId": "0c9d29e3-c663-4e7d-a65a-4421b0b0a77b"
      },
      "source": [
        "test_features.info()"
      ],
      "execution_count": null,
      "outputs": [
        {
          "output_type": "stream",
          "name": "stdout",
          "text": [
            "<class 'pandas.core.frame.DataFrame'>\n",
            "RangeIndex: 1000000 entries, 0 to 999999\n",
            "Data columns (total 8 columns):\n",
            " #   Column               Non-Null Count    Dtype \n",
            "---  ------               --------------    ----- \n",
            " 0   jobId                1000000 non-null  object\n",
            " 1   companyId            1000000 non-null  object\n",
            " 2   jobType              1000000 non-null  object\n",
            " 3   degree               1000000 non-null  object\n",
            " 4   major                1000000 non-null  object\n",
            " 5   industry             1000000 non-null  object\n",
            " 6   yearsExperience      1000000 non-null  int64 \n",
            " 7   milesFromMetropolis  1000000 non-null  int64 \n",
            "dtypes: int64(2), object(6)\n",
            "memory usage: 61.0+ MB\n"
          ]
        }
      ]
    },
    {
      "cell_type": "code",
      "metadata": {
        "colab": {
          "base_uri": "https://localhost:8080/"
        },
        "id": "R98uu89_M5fG",
        "outputId": "b0b23c8a-f726-4c66-bea2-52f91c067513"
      },
      "source": [
        "test_features.isnull().sum()"
      ],
      "execution_count": null,
      "outputs": [
        {
          "output_type": "execute_result",
          "data": {
            "text/plain": [
              "jobId                  0\n",
              "companyId              0\n",
              "jobType                0\n",
              "degree                 0\n",
              "major                  0\n",
              "industry               0\n",
              "yearsExperience        0\n",
              "milesFromMetropolis    0\n",
              "dtype: int64"
            ]
          },
          "metadata": {},
          "execution_count": 41
        }
      ]
    },
    {
      "cell_type": "markdown",
      "metadata": {
        "id": "OZE4WYw2g4Iz"
      },
      "source": [
        "## Explore data"
      ]
    },
    {
      "cell_type": "markdown",
      "metadata": {
        "id": "1_iOUtJC8tY3"
      },
      "source": [
        "**Summarize the dataset**"
      ]
    },
    {
      "cell_type": "code",
      "metadata": {
        "colab": {
          "base_uri": "https://localhost:8080/",
          "height": 297
        },
        "id": "2rHEGVEmiFBg",
        "outputId": "350eb1c4-5054-4fc3-8400-4b35393d2d12"
      },
      "source": [
        "train_dataset.describe()"
      ],
      "execution_count": null,
      "outputs": [
        {
          "output_type": "execute_result",
          "data": {
            "text/html": [
              "<div>\n",
              "<style scoped>\n",
              "    .dataframe tbody tr th:only-of-type {\n",
              "        vertical-align: middle;\n",
              "    }\n",
              "\n",
              "    .dataframe tbody tr th {\n",
              "        vertical-align: top;\n",
              "    }\n",
              "\n",
              "    .dataframe thead th {\n",
              "        text-align: right;\n",
              "    }\n",
              "</style>\n",
              "<table border=\"1\" class=\"dataframe\">\n",
              "  <thead>\n",
              "    <tr style=\"text-align: right;\">\n",
              "      <th></th>\n",
              "      <th>yearsExperience</th>\n",
              "      <th>milesFromMetropolis</th>\n",
              "      <th>salary</th>\n",
              "    </tr>\n",
              "  </thead>\n",
              "  <tbody>\n",
              "    <tr>\n",
              "      <th>count</th>\n",
              "      <td>1000000.000000</td>\n",
              "      <td>1000000.000000</td>\n",
              "      <td>1000000.000000</td>\n",
              "    </tr>\n",
              "    <tr>\n",
              "      <th>mean</th>\n",
              "      <td>11.992386</td>\n",
              "      <td>49.529260</td>\n",
              "      <td>116.061818</td>\n",
              "    </tr>\n",
              "    <tr>\n",
              "      <th>std</th>\n",
              "      <td>7.212391</td>\n",
              "      <td>28.877733</td>\n",
              "      <td>38.717936</td>\n",
              "    </tr>\n",
              "    <tr>\n",
              "      <th>min</th>\n",
              "      <td>0.000000</td>\n",
              "      <td>0.000000</td>\n",
              "      <td>0.000000</td>\n",
              "    </tr>\n",
              "    <tr>\n",
              "      <th>25%</th>\n",
              "      <td>6.000000</td>\n",
              "      <td>25.000000</td>\n",
              "      <td>88.000000</td>\n",
              "    </tr>\n",
              "    <tr>\n",
              "      <th>50%</th>\n",
              "      <td>12.000000</td>\n",
              "      <td>50.000000</td>\n",
              "      <td>114.000000</td>\n",
              "    </tr>\n",
              "    <tr>\n",
              "      <th>75%</th>\n",
              "      <td>18.000000</td>\n",
              "      <td>75.000000</td>\n",
              "      <td>141.000000</td>\n",
              "    </tr>\n",
              "    <tr>\n",
              "      <th>max</th>\n",
              "      <td>24.000000</td>\n",
              "      <td>99.000000</td>\n",
              "      <td>301.000000</td>\n",
              "    </tr>\n",
              "  </tbody>\n",
              "</table>\n",
              "</div>"
            ],
            "text/plain": [
              "       yearsExperience  milesFromMetropolis          salary\n",
              "count   1000000.000000       1000000.000000  1000000.000000\n",
              "mean         11.992386            49.529260      116.061818\n",
              "std           7.212391            28.877733       38.717936\n",
              "min           0.000000             0.000000        0.000000\n",
              "25%           6.000000            25.000000       88.000000\n",
              "50%          12.000000            50.000000      114.000000\n",
              "75%          18.000000            75.000000      141.000000\n",
              "max          24.000000            99.000000      301.000000"
            ]
          },
          "metadata": {},
          "execution_count": 42
        }
      ]
    },
    {
      "cell_type": "code",
      "metadata": {
        "colab": {
          "base_uri": "https://localhost:8080/",
          "height": 173
        },
        "id": "DMO6lY3hAD_Z",
        "outputId": "4e635027-ab21-4d96-d9a7-b4f9cc210674"
      },
      "source": [
        "train_dataset.describe(include=['O'])"
      ],
      "execution_count": null,
      "outputs": [
        {
          "output_type": "execute_result",
          "data": {
            "text/html": [
              "<div>\n",
              "<style scoped>\n",
              "    .dataframe tbody tr th:only-of-type {\n",
              "        vertical-align: middle;\n",
              "    }\n",
              "\n",
              "    .dataframe tbody tr th {\n",
              "        vertical-align: top;\n",
              "    }\n",
              "\n",
              "    .dataframe thead th {\n",
              "        text-align: right;\n",
              "    }\n",
              "</style>\n",
              "<table border=\"1\" class=\"dataframe\">\n",
              "  <thead>\n",
              "    <tr style=\"text-align: right;\">\n",
              "      <th></th>\n",
              "      <th>jobId</th>\n",
              "      <th>companyId</th>\n",
              "      <th>jobType</th>\n",
              "      <th>degree</th>\n",
              "      <th>major</th>\n",
              "      <th>industry</th>\n",
              "    </tr>\n",
              "  </thead>\n",
              "  <tbody>\n",
              "    <tr>\n",
              "      <th>count</th>\n",
              "      <td>1000000</td>\n",
              "      <td>1000000</td>\n",
              "      <td>1000000</td>\n",
              "      <td>1000000</td>\n",
              "      <td>1000000</td>\n",
              "      <td>1000000</td>\n",
              "    </tr>\n",
              "    <tr>\n",
              "      <th>unique</th>\n",
              "      <td>1000000</td>\n",
              "      <td>63</td>\n",
              "      <td>8</td>\n",
              "      <td>5</td>\n",
              "      <td>9</td>\n",
              "      <td>7</td>\n",
              "    </tr>\n",
              "    <tr>\n",
              "      <th>top</th>\n",
              "      <td>JOB1362685350252</td>\n",
              "      <td>COMP39</td>\n",
              "      <td>SENIOR</td>\n",
              "      <td>HIGH_SCHOOL</td>\n",
              "      <td>NONE</td>\n",
              "      <td>WEB</td>\n",
              "    </tr>\n",
              "    <tr>\n",
              "      <th>freq</th>\n",
              "      <td>1</td>\n",
              "      <td>16193</td>\n",
              "      <td>125886</td>\n",
              "      <td>236976</td>\n",
              "      <td>532355</td>\n",
              "      <td>143206</td>\n",
              "    </tr>\n",
              "  </tbody>\n",
              "</table>\n",
              "</div>"
            ],
            "text/plain": [
              "                   jobId companyId  jobType       degree    major industry\n",
              "count            1000000   1000000  1000000      1000000  1000000  1000000\n",
              "unique           1000000        63        8            5        9        7\n",
              "top     JOB1362685350252    COMP39   SENIOR  HIGH_SCHOOL     NONE      WEB\n",
              "freq                   1     16193   125886       236976   532355   143206"
            ]
          },
          "metadata": {},
          "execution_count": 43
        }
      ]
    },
    {
      "cell_type": "markdown",
      "metadata": {
        "id": "8SKCOK5l827_"
      },
      "source": [
        "**Check distribution of target variable**"
      ]
    },
    {
      "cell_type": "code",
      "metadata": {
        "colab": {
          "base_uri": "https://localhost:8080/",
          "height": 404
        },
        "id": "3fVVmdtBADez",
        "outputId": "c656fdd5-dffb-41a3-9513-ba5993978ace"
      },
      "source": [
        "# set up the matplotlib figure and plot distribution \n",
        "f, axes = plt.subplots(ncols=2, figsize = (18,6))\n",
        "sns.boxplot(train_dataset.salary, ax = axes[0])\n",
        "sns.distplot(train_dataset['salary'], ax = axes[1])\n",
        "plt.savefig(\"salary_dist.png\")\n",
        "plt.title(\"Salary Distribution\")\n",
        "plt.show()\n"
      ],
      "execution_count": null,
      "outputs": [
        {
          "output_type": "display_data",
          "data": {
            "image/png": "[encoded data removed]",
            "text/plain": [
              "<Figure size 1296x432 with 2 Axes>"
            ]
          },
          "metadata": {
            "needs_background": "light"
          }
        }
      ]
    },
    {
      "cell_type": "markdown",
      "metadata": {
        "id": "dVYbNPBh9KLV"
      },
      "source": [
        "**Detect outliers**"
      ]
    },
    {
      "cell_type": "code",
      "metadata": {
        "colab": {
          "base_uri": "https://localhost:8080/"
        },
        "id": "5seL7UgQHvZG",
        "outputId": "ca30b034-a532-4b8b-9ee8-2c81be832886"
      },
      "source": [
        "# identify potential outliers using IQR\n",
        "q1, q3= train_dataset.salary.quantile([0.25, 0.75])\n",
        "iqr = q3-q1\n",
        "upper = q3 + 1.5 * iqr \n",
        "lower = q1 - 1.5 * iqr \n",
        "print('The upper & lower bounds for potential outliers are {} and {}.'.format(upper,lower))"
      ],
      "execution_count": null,
      "outputs": [
        {
          "output_type": "stream",
          "name": "stdout",
          "text": [
            "The upper & lower bounds for potential outliers are 220.5 and 8.5.\n"
          ]
        }
      ]
    },
    {
      "cell_type": "code",
      "metadata": {
        "colab": {
          "base_uri": "https://localhost:8080/",
          "height": 204
        },
        "id": "u-0ZPXdOHvV4",
        "outputId": "0193b619-bb28-46be-ca4d-094264e269c3"
      },
      "source": [
        "# check outliers below lower bound\n",
        "train_dataset[train_dataset.salary <8.5]"
      ],
      "execution_count": null,
      "outputs": [
        {
          "output_type": "execute_result",
          "data": {
            "text/html": [
              "<div>\n",
              "<style scoped>\n",
              "    .dataframe tbody tr th:only-of-type {\n",
              "        vertical-align: middle;\n",
              "    }\n",
              "\n",
              "    .dataframe tbody tr th {\n",
              "        vertical-align: top;\n",
              "    }\n",
              "\n",
              "    .dataframe thead th {\n",
              "        text-align: right;\n",
              "    }\n",
              "</style>\n",
              "<table border=\"1\" class=\"dataframe\">\n",
              "  <thead>\n",
              "    <tr style=\"text-align: right;\">\n",
              "      <th></th>\n",
              "      <th>jobId</th>\n",
              "      <th>companyId</th>\n",
              "      <th>jobType</th>\n",
              "      <th>degree</th>\n",
              "      <th>major</th>\n",
              "      <th>industry</th>\n",
              "      <th>yearsExperience</th>\n",
              "      <th>milesFromMetropolis</th>\n",
              "      <th>salary</th>\n",
              "    </tr>\n",
              "  </thead>\n",
              "  <tbody>\n",
              "    <tr>\n",
              "      <th>30559</th>\n",
              "      <td>JOB1362684438246</td>\n",
              "      <td>COMP44</td>\n",
              "      <td>JUNIOR</td>\n",
              "      <td>DOCTORAL</td>\n",
              "      <td>MATH</td>\n",
              "      <td>AUTO</td>\n",
              "      <td>11</td>\n",
              "      <td>7</td>\n",
              "      <td>0</td>\n",
              "    </tr>\n",
              "    <tr>\n",
              "      <th>495984</th>\n",
              "      <td>JOB1362684903671</td>\n",
              "      <td>COMP34</td>\n",
              "      <td>JUNIOR</td>\n",
              "      <td>NONE</td>\n",
              "      <td>NONE</td>\n",
              "      <td>OIL</td>\n",
              "      <td>1</td>\n",
              "      <td>25</td>\n",
              "      <td>0</td>\n",
              "    </tr>\n",
              "    <tr>\n",
              "      <th>652076</th>\n",
              "      <td>JOB1362685059763</td>\n",
              "      <td>COMP25</td>\n",
              "      <td>CTO</td>\n",
              "      <td>HIGH_SCHOOL</td>\n",
              "      <td>NONE</td>\n",
              "      <td>AUTO</td>\n",
              "      <td>6</td>\n",
              "      <td>60</td>\n",
              "      <td>0</td>\n",
              "    </tr>\n",
              "    <tr>\n",
              "      <th>816129</th>\n",
              "      <td>JOB1362685223816</td>\n",
              "      <td>COMP42</td>\n",
              "      <td>MANAGER</td>\n",
              "      <td>DOCTORAL</td>\n",
              "      <td>ENGINEERING</td>\n",
              "      <td>FINANCE</td>\n",
              "      <td>18</td>\n",
              "      <td>6</td>\n",
              "      <td>0</td>\n",
              "    </tr>\n",
              "    <tr>\n",
              "      <th>828156</th>\n",
              "      <td>JOB1362685235843</td>\n",
              "      <td>COMP40</td>\n",
              "      <td>VICE_PRESIDENT</td>\n",
              "      <td>MASTERS</td>\n",
              "      <td>ENGINEERING</td>\n",
              "      <td>WEB</td>\n",
              "      <td>3</td>\n",
              "      <td>29</td>\n",
              "      <td>0</td>\n",
              "    </tr>\n",
              "  </tbody>\n",
              "</table>\n",
              "</div>"
            ],
            "text/plain": [
              "                   jobId companyId  ... milesFromMetropolis salary\n",
              "30559   JOB1362684438246    COMP44  ...                   7      0\n",
              "495984  JOB1362684903671    COMP34  ...                  25      0\n",
              "652076  JOB1362685059763    COMP25  ...                  60      0\n",
              "816129  JOB1362685223816    COMP42  ...                   6      0\n",
              "828156  JOB1362685235843    COMP40  ...                  29      0\n",
              "\n",
              "[5 rows x 9 columns]"
            ]
          },
          "metadata": {},
          "execution_count": 46
        }
      ]
    },
    {
      "cell_type": "code",
      "metadata": {
        "colab": {
          "base_uri": "https://localhost:8080/",
          "height": 669
        },
        "id": "qo10Y4mGR5Fs",
        "outputId": "02868002-d1ca-43f4-9e8a-ac02d435900b"
      },
      "source": [
        "# check above upper bound salaries\n",
        "train_dataset[train_dataset.salary>220.5].head(20)"
      ],
      "execution_count": null,
      "outputs": [
        {
          "output_type": "execute_result",
          "data": {
            "text/html": [
              "<div>\n",
              "<style scoped>\n",
              "    .dataframe tbody tr th:only-of-type {\n",
              "        vertical-align: middle;\n",
              "    }\n",
              "\n",
              "    .dataframe tbody tr th {\n",
              "        vertical-align: top;\n",
              "    }\n",
              "\n",
              "    .dataframe thead th {\n",
              "        text-align: right;\n",
              "    }\n",
              "</style>\n",
              "<table border=\"1\" class=\"dataframe\">\n",
              "  <thead>\n",
              "    <tr style=\"text-align: right;\">\n",
              "      <th></th>\n",
              "      <th>jobId</th>\n",
              "      <th>companyId</th>\n",
              "      <th>jobType</th>\n",
              "      <th>degree</th>\n",
              "      <th>major</th>\n",
              "      <th>industry</th>\n",
              "      <th>yearsExperience</th>\n",
              "      <th>milesFromMetropolis</th>\n",
              "      <th>salary</th>\n",
              "    </tr>\n",
              "  </thead>\n",
              "  <tbody>\n",
              "    <tr>\n",
              "      <th>266</th>\n",
              "      <td>JOB1362684407953</td>\n",
              "      <td>COMP30</td>\n",
              "      <td>CEO</td>\n",
              "      <td>MASTERS</td>\n",
              "      <td>BIOLOGY</td>\n",
              "      <td>OIL</td>\n",
              "      <td>23</td>\n",
              "      <td>60</td>\n",
              "      <td>223</td>\n",
              "    </tr>\n",
              "    <tr>\n",
              "      <th>362</th>\n",
              "      <td>JOB1362684408049</td>\n",
              "      <td>COMP38</td>\n",
              "      <td>CTO</td>\n",
              "      <td>MASTERS</td>\n",
              "      <td>NONE</td>\n",
              "      <td>HEALTH</td>\n",
              "      <td>24</td>\n",
              "      <td>3</td>\n",
              "      <td>223</td>\n",
              "    </tr>\n",
              "    <tr>\n",
              "      <th>560</th>\n",
              "      <td>JOB1362684408247</td>\n",
              "      <td>COMP53</td>\n",
              "      <td>CEO</td>\n",
              "      <td>MASTERS</td>\n",
              "      <td>BIOLOGY</td>\n",
              "      <td>WEB</td>\n",
              "      <td>22</td>\n",
              "      <td>7</td>\n",
              "      <td>248</td>\n",
              "    </tr>\n",
              "    <tr>\n",
              "      <th>670</th>\n",
              "      <td>JOB1362684408357</td>\n",
              "      <td>COMP26</td>\n",
              "      <td>CEO</td>\n",
              "      <td>MASTERS</td>\n",
              "      <td>MATH</td>\n",
              "      <td>AUTO</td>\n",
              "      <td>23</td>\n",
              "      <td>9</td>\n",
              "      <td>240</td>\n",
              "    </tr>\n",
              "    <tr>\n",
              "      <th>719</th>\n",
              "      <td>JOB1362684408406</td>\n",
              "      <td>COMP54</td>\n",
              "      <td>VICE_PRESIDENT</td>\n",
              "      <td>DOCTORAL</td>\n",
              "      <td>BIOLOGY</td>\n",
              "      <td>OIL</td>\n",
              "      <td>21</td>\n",
              "      <td>14</td>\n",
              "      <td>225</td>\n",
              "    </tr>\n",
              "    <tr>\n",
              "      <th>966</th>\n",
              "      <td>JOB1362684408653</td>\n",
              "      <td>COMP32</td>\n",
              "      <td>CEO</td>\n",
              "      <td>DOCTORAL</td>\n",
              "      <td>ENGINEERING</td>\n",
              "      <td>FINANCE</td>\n",
              "      <td>23</td>\n",
              "      <td>11</td>\n",
              "      <td>247</td>\n",
              "    </tr>\n",
              "    <tr>\n",
              "      <th>986</th>\n",
              "      <td>JOB1362684408673</td>\n",
              "      <td>COMP37</td>\n",
              "      <td>CFO</td>\n",
              "      <td>HIGH_SCHOOL</td>\n",
              "      <td>NONE</td>\n",
              "      <td>FINANCE</td>\n",
              "      <td>24</td>\n",
              "      <td>20</td>\n",
              "      <td>229</td>\n",
              "    </tr>\n",
              "    <tr>\n",
              "      <th>1211</th>\n",
              "      <td>JOB1362684408898</td>\n",
              "      <td>COMP24</td>\n",
              "      <td>CTO</td>\n",
              "      <td>DOCTORAL</td>\n",
              "      <td>BUSINESS</td>\n",
              "      <td>FINANCE</td>\n",
              "      <td>5</td>\n",
              "      <td>46</td>\n",
              "      <td>232</td>\n",
              "    </tr>\n",
              "    <tr>\n",
              "      <th>1222</th>\n",
              "      <td>JOB1362684408909</td>\n",
              "      <td>COMP40</td>\n",
              "      <td>JUNIOR</td>\n",
              "      <td>MASTERS</td>\n",
              "      <td>COMPSCI</td>\n",
              "      <td>OIL</td>\n",
              "      <td>24</td>\n",
              "      <td>5</td>\n",
              "      <td>225</td>\n",
              "    </tr>\n",
              "    <tr>\n",
              "      <th>1413</th>\n",
              "      <td>JOB1362684409100</td>\n",
              "      <td>COMP56</td>\n",
              "      <td>VICE_PRESIDENT</td>\n",
              "      <td>MASTERS</td>\n",
              "      <td>MATH</td>\n",
              "      <td>WEB</td>\n",
              "      <td>24</td>\n",
              "      <td>15</td>\n",
              "      <td>241</td>\n",
              "    </tr>\n",
              "    <tr>\n",
              "      <th>1500</th>\n",
              "      <td>JOB1362684409187</td>\n",
              "      <td>COMP40</td>\n",
              "      <td>CTO</td>\n",
              "      <td>BACHELORS</td>\n",
              "      <td>PHYSICS</td>\n",
              "      <td>HEALTH</td>\n",
              "      <td>23</td>\n",
              "      <td>12</td>\n",
              "      <td>225</td>\n",
              "    </tr>\n",
              "    <tr>\n",
              "      <th>1577</th>\n",
              "      <td>JOB1362684409264</td>\n",
              "      <td>COMP50</td>\n",
              "      <td>CEO</td>\n",
              "      <td>HIGH_SCHOOL</td>\n",
              "      <td>NONE</td>\n",
              "      <td>HEALTH</td>\n",
              "      <td>19</td>\n",
              "      <td>7</td>\n",
              "      <td>238</td>\n",
              "    </tr>\n",
              "    <tr>\n",
              "      <th>1827</th>\n",
              "      <td>JOB1362684409514</td>\n",
              "      <td>COMP33</td>\n",
              "      <td>CFO</td>\n",
              "      <td>HIGH_SCHOOL</td>\n",
              "      <td>NONE</td>\n",
              "      <td>OIL</td>\n",
              "      <td>23</td>\n",
              "      <td>16</td>\n",
              "      <td>234</td>\n",
              "    </tr>\n",
              "    <tr>\n",
              "      <th>1907</th>\n",
              "      <td>JOB1362684409594</td>\n",
              "      <td>COMP4</td>\n",
              "      <td>CFO</td>\n",
              "      <td>BACHELORS</td>\n",
              "      <td>ENGINEERING</td>\n",
              "      <td>FINANCE</td>\n",
              "      <td>21</td>\n",
              "      <td>21</td>\n",
              "      <td>243</td>\n",
              "    </tr>\n",
              "    <tr>\n",
              "      <th>2116</th>\n",
              "      <td>JOB1362684409803</td>\n",
              "      <td>COMP3</td>\n",
              "      <td>CFO</td>\n",
              "      <td>DOCTORAL</td>\n",
              "      <td>ENGINEERING</td>\n",
              "      <td>AUTO</td>\n",
              "      <td>22</td>\n",
              "      <td>16</td>\n",
              "      <td>237</td>\n",
              "    </tr>\n",
              "    <tr>\n",
              "      <th>2173</th>\n",
              "      <td>JOB1362684409860</td>\n",
              "      <td>COMP0</td>\n",
              "      <td>CTO</td>\n",
              "      <td>DOCTORAL</td>\n",
              "      <td>NONE</td>\n",
              "      <td>FINANCE</td>\n",
              "      <td>15</td>\n",
              "      <td>7</td>\n",
              "      <td>222</td>\n",
              "    </tr>\n",
              "    <tr>\n",
              "      <th>2217</th>\n",
              "      <td>JOB1362684409904</td>\n",
              "      <td>COMP45</td>\n",
              "      <td>VICE_PRESIDENT</td>\n",
              "      <td>DOCTORAL</td>\n",
              "      <td>BUSINESS</td>\n",
              "      <td>AUTO</td>\n",
              "      <td>24</td>\n",
              "      <td>4</td>\n",
              "      <td>232</td>\n",
              "    </tr>\n",
              "    <tr>\n",
              "      <th>2356</th>\n",
              "      <td>JOB1362684410043</td>\n",
              "      <td>COMP3</td>\n",
              "      <td>CFO</td>\n",
              "      <td>BACHELORS</td>\n",
              "      <td>MATH</td>\n",
              "      <td>WEB</td>\n",
              "      <td>20</td>\n",
              "      <td>22</td>\n",
              "      <td>230</td>\n",
              "    </tr>\n",
              "    <tr>\n",
              "      <th>2396</th>\n",
              "      <td>JOB1362684410083</td>\n",
              "      <td>COMP8</td>\n",
              "      <td>CTO</td>\n",
              "      <td>BACHELORS</td>\n",
              "      <td>ENGINEERING</td>\n",
              "      <td>WEB</td>\n",
              "      <td>9</td>\n",
              "      <td>7</td>\n",
              "      <td>231</td>\n",
              "    </tr>\n",
              "    <tr>\n",
              "      <th>2576</th>\n",
              "      <td>JOB1362684410263</td>\n",
              "      <td>COMP16</td>\n",
              "      <td>CTO</td>\n",
              "      <td>MASTERS</td>\n",
              "      <td>COMPSCI</td>\n",
              "      <td>AUTO</td>\n",
              "      <td>23</td>\n",
              "      <td>10</td>\n",
              "      <td>230</td>\n",
              "    </tr>\n",
              "  </tbody>\n",
              "</table>\n",
              "</div>"
            ],
            "text/plain": [
              "                 jobId companyId  ... milesFromMetropolis salary\n",
              "266   JOB1362684407953    COMP30  ...                  60    223\n",
              "362   JOB1362684408049    COMP38  ...                   3    223\n",
              "560   JOB1362684408247    COMP53  ...                   7    248\n",
              "670   JOB1362684408357    COMP26  ...                   9    240\n",
              "719   JOB1362684408406    COMP54  ...                  14    225\n",
              "966   JOB1362684408653    COMP32  ...                  11    247\n",
              "986   JOB1362684408673    COMP37  ...                  20    229\n",
              "1211  JOB1362684408898    COMP24  ...                  46    232\n",
              "1222  JOB1362684408909    COMP40  ...                   5    225\n",
              "1413  JOB1362684409100    COMP56  ...                  15    241\n",
              "1500  JOB1362684409187    COMP40  ...                  12    225\n",
              "1577  JOB1362684409264    COMP50  ...                   7    238\n",
              "1827  JOB1362684409514    COMP33  ...                  16    234\n",
              "1907  JOB1362684409594     COMP4  ...                  21    243\n",
              "2116  JOB1362684409803     COMP3  ...                  16    237\n",
              "2173  JOB1362684409860     COMP0  ...                   7    222\n",
              "2217  JOB1362684409904    COMP45  ...                   4    232\n",
              "2356  JOB1362684410043     COMP3  ...                  22    230\n",
              "2396  JOB1362684410083     COMP8  ...                   7    231\n",
              "2576  JOB1362684410263    COMP16  ...                  10    230\n",
              "\n",
              "[20 rows x 9 columns]"
            ]
          },
          "metadata": {},
          "execution_count": 105
        }
      ]
    },
    {
      "cell_type": "code",
      "metadata": {
        "colab": {
          "base_uri": "https://localhost:8080/"
        },
        "id": "uLCCZvbBSPxG",
        "outputId": "b5dea1ab-1c0a-4ca3-ee62-a05ba81b2a7f"
      },
      "source": [
        "# examine further above upper bound salaries\n",
        "train_dataset.loc[train_dataset.salary > 220.5, 'jobType'].value_counts()"
      ],
      "execution_count": null,
      "outputs": [
        {
          "output_type": "execute_result",
          "data": {
            "text/plain": [
              "CEO               3227\n",
              "CFO               1496\n",
              "CTO               1488\n",
              "VICE_PRESIDENT     603\n",
              "MANAGER            217\n",
              "SENIOR              66\n",
              "JUNIOR              20\n",
              "Name: jobType, dtype: int64"
            ]
          },
          "metadata": {},
          "execution_count": 48
        }
      ]
    },
    {
      "cell_type": "code",
      "metadata": {
        "colab": {
          "base_uri": "https://localhost:8080/"
        },
        "id": "ug2bCGyqHvP7",
        "outputId": "1ce8506a-c239-4a48-8fc4-3f056eff03fc"
      },
      "source": [
        "# are junior job type salaries outliers for real?\n",
        "train_dataset.loc[(train_dataset.salary>220.5) & (train_dataset.jobType == 'JUNIOR'), 'industry'].value_counts()"
      ],
      "execution_count": null,
      "outputs": [
        {
          "output_type": "execute_result",
          "data": {
            "text/plain": [
              "OIL        11\n",
              "FINANCE     8\n",
              "WEB         1\n",
              "Name: industry, dtype: int64"
            ]
          },
          "metadata": {},
          "execution_count": 49
        }
      ]
    },
    {
      "cell_type": "markdown",
      "metadata": {
        "id": "4d3MdQEsTNH3"
      },
      "source": [
        "Records with zero salaries  will be removed as it appears that these are instances of missing or corrupt data. \n",
        "However, the higher salary above upper bound seem to be legitimate data. Most roles are executive level and from the industry that pays more. "
      ]
    },
    {
      "cell_type": "code",
      "metadata": {
        "id": "ZaKZgDEV82An"
      },
      "source": [
        "# remove zero salary recods\n",
        "train_dataset = train_dataset[train_dataset.salary>8.5]"
      ],
      "execution_count": null,
      "outputs": []
    },
    {
      "cell_type": "markdown",
      "metadata": {
        "id": "7RsjCn9b9kXs"
      },
      "source": [
        "**Visually explore explanatory variable's relation with target variable**"
      ]
    },
    {
      "cell_type": "code",
      "metadata": {
        "id": "SqK9KZBIo5WM"
      },
      "source": [
        "# create function to visually explore relationships between salary and independent variables\n",
        "def explore_feature(df,col):\n",
        "    plt.figure (figsize = (18,8))\n",
        "    plt.subplot(1,2,1)\n",
        "    if df[col].dtype == 'int64' or col =='companyId':\n",
        "        mean = df.groupby(col)['salary'].mean()\n",
        "        std = df.groupby(col)['salary'].std()\n",
        "        mean.plot()\n",
        "        plt.fill_between(range(len(std.index)), mean.values-std.values, mean.values+std.values, \\\n",
        "                        alpha =0.1)\n",
        "        plt.ylabel('Salaries')\n",
        "    else :\n",
        "        col_mean = df.groupby(col)['salary'].mean()\n",
        "        df[col] = df[col].astype('category')\n",
        "        levels = col_mean.sort_values().index.tolist()\n",
        "        df[col].cat.reorder_categories(levels, inplace=True)\n",
        "        col_mean.sort_values().plot(kind='bar')\n",
        "        plt.xticks(rotation=45)\n",
        "        plt.xlabel(col)\n",
        "        plt.ylabel('Average salary by'+ ' ' + col)\n",
        "        plt.subplot(1,2,2)\n",
        "        sns.boxplot(x=col, y='salary', data=df)\n",
        "        plt.xticks(rotation=45)    \n",
        "        plt.ylabel('Salaries') \n",
        "    plt.show()"
      ],
      "execution_count": null,
      "outputs": []
    },
    {
      "cell_type": "code",
      "metadata": {
        "id": "mTYhm_K2ma8q"
      },
      "source": [
        "train_data_features=['jobType', 'degree', 'major', 'industry', 'yearsExperience','milesFromMetropolis', 'companyId']\n"
      ],
      "execution_count": null,
      "outputs": []
    },
    {
      "cell_type": "code",
      "metadata": {
        "colab": {
          "base_uri": "https://localhost:8080/",
          "height": 1000
        },
        "id": "CXH0gVjFmbDS",
        "outputId": "a98520b9-ece0-478f-e5c3-1dd922fce054"
      },
      "source": [
        "for features in train_data_features:\n",
        "    explore_feature(train_dataset, features)"
      ],
      "execution_count": null,
      "outputs": [
        {
          "output_type": "display_data",
          "data": {
            "image/png": "[encoded data removed]",
            "text/plain": [
              "<Figure size 1296x576 with 2 Axes>"
            ]
          },
          "metadata": {
            "needs_background": "light"
          }
        },
        {
          "output_type": "display_data",
          "data": {
            "image/png": "[encoded data removed]",
            "text/plain": [
              "<Figure size 1296x576 with 2 Axes>"
            ]
          },
          "metadata": {
            "needs_background": "light"
          }
        },
        {
          "output_type": "display_data",
          "data": {
            "image/png": "[encoded data removed]",
            "text/plain": [
              "<Figure size 1296x576 with 2 Axes>"
            ]
          },
          "metadata": {
            "needs_background": "light"
          }
        },
        {
          "output_type": "display_data",
          "data": {
            "image/png": "[encoded data removed]",
            "text/plain": [
              "<Figure size 1296x576 with 2 Axes>"
            ]
          },
          "metadata": {
            "needs_background": "light"
          }
        },
        {
          "output_type": "display_data",
          "data": {
            "image/png": "[encoded data removed]",
            "text/plain": [
              "<Figure size 1296x576 with 1 Axes>"
            ]
          },
          "metadata": {
            "needs_background": "light"
          }
        },
        {
          "output_type": "display_data",
          "data": {
            "image/png": "[encoded data removed]",
            "text/plain": [
              "<Figure size 1296x576 with 1 Axes>"
            ]
          },
          "metadata": {
            "needs_background": "light"
          }
        },
        {
          "output_type": "display_data",
          "data": {
            "image/png": "[encoded data removed]",
            "text/plain": [
              "<Figure size 1296x576 with 1 Axes>"
            ]
          },
          "metadata": {
            "needs_background": "light"
          }
        }
      ]
    },
    {
      "cell_type": "markdown",
      "metadata": {
        "id": "NLz2eVzLS7_O"
      },
      "source": [
        "It indicates that  variables -  job type, degree, major, industry, years of experience impact salary positively. Whereas miles from metrolpolis is negatively correlated and company is not correlated. "
      ]
    },
    {
      "cell_type": "markdown",
      "metadata": {
        "id": "yGKRqTAd-D11"
      },
      "source": [
        "**Check for correlation among variables**"
      ]
    },
    {
      "cell_type": "code",
      "metadata": {
        "id": "Iibk3DMZ2Lu2"
      },
      "source": [
        "# Label encode categorical variables by mean salary for respective category\n",
        "def label_encoding(data, column):\n",
        "    dict = {}\n",
        "    cat_list = data[column].cat.categories.tolist()\n",
        "    for cat in cat_list:\n",
        "        dict[cat] = data[data[column] == cat]['salary'].mean()\n",
        "    data[column] = data[column].map(dict)"
      ],
      "execution_count": null,
      "outputs": []
    },
    {
      "cell_type": "code",
      "metadata": {
        "id": "axMVYJ442LyB"
      },
      "source": [
        "train_data_copy = train_dataset.copy()\n",
        "for column in train_data_copy.columns:\n",
        "    if train_data_copy[column].dtype.name == 'category':\n",
        "        label_encoding(train_data_copy, column)\n",
        "        train_data_copy[column] = train_data_copy[column].astype('float')"
      ],
      "execution_count": null,
      "outputs": []
    },
    {
      "cell_type": "code",
      "metadata": {
        "colab": {
          "base_uri": "https://localhost:8080/",
          "height": 704
        },
        "id": "El72eBNd2L1h",
        "outputId": "f9182c0a-8857-4d67-cc0f-c4f611f1427a"
      },
      "source": [
        "cm=train_data_copy.corr()\n",
        "corr_features=cm.index\n",
        "plt.figure(figsize=(16,12))\n",
        "ax=sns.heatmap(train_data_copy[corr_features].corr(), annot=True, cmap='coolwarm')\n",
        "bottom, top = ax.get_ylim()\n",
        "ax.set_ylim(bottom + 0.5, top - 0.5)\n",
        "plt.savefig(\"correlationmatrix.png\")\n",
        "plt.show()"
      ],
      "execution_count": null,
      "outputs": [
        {
          "output_type": "display_data",
          "data": {
            "image/png": "[encoded data removed]",
            "text/plain": [
              "<Figure size 1152x864 with 2 Axes>"
            ]
          },
          "metadata": {
            "needs_background": "light"
          }
        }
      ]
    },
    {
      "cell_type": "markdown",
      "metadata": {
        "id": "RUseyeFsuR05"
      },
      "source": [
        "# Modeling "
      ]
    },
    {
      "cell_type": "code",
      "metadata": {
        "id": "qie6ydPKvjRL"
      },
      "source": [
        "# Import libraries for modeling\n",
        "from sklearn.linear_model import LinearRegression\n",
        "from sklearn.ensemble import RandomForestRegressor, GradientBoostingRegressor\n",
        "from sklearn.metrics import mean_squared_error\n",
        "from sklearn.model_selection import cross_val_score\n",
        "from sklearn.preprocessing import StandardScaler\n",
        "from sklearn import  metrics"
      ],
      "execution_count": null,
      "outputs": []
    },
    {
      "cell_type": "markdown",
      "metadata": {
        "id": "Om92k7Rz-vM4"
      },
      "source": [
        "**Establish a baseline**"
      ]
    },
    {
      "cell_type": "code",
      "metadata": {
        "colab": {
          "base_uri": "https://localhost:8080/"
        },
        "id": "F8poh39-2L7B",
        "outputId": "7bc4988f-36e9-47ae-81b6-64a2b56803ea"
      },
      "source": [
        "# baseline model with MSE\n",
        "baseline_industry = mean_squared_error(train_data_copy['industry'], train_data_copy['salary'])\n",
        "baseline_industry"
      ],
      "execution_count": null,
      "outputs": [
        {
          "output_type": "execute_result",
          "data": {
            "text/plain": [
              "1367.122950785255"
            ]
          },
          "metadata": {},
          "execution_count": 58
        }
      ]
    },
    {
      "cell_type": "code",
      "metadata": {
        "colab": {
          "base_uri": "https://localhost:8080/"
        },
        "id": "jlBLEIujCmcT",
        "outputId": "d00c0534-7ce7-4fcf-e755-093dcd7ebd32"
      },
      "source": [
        "baseline_jobtype = mean_squared_error(train_data_copy['jobType'], train_data_copy['salary'])\n",
        "baseline_jobtype"
      ],
      "execution_count": null,
      "outputs": [
        {
          "output_type": "execute_result",
          "data": {
            "text/plain": [
              "963.9252996562975"
            ]
          },
          "metadata": {},
          "execution_count": 59
        }
      ]
    },
    {
      "cell_type": "markdown",
      "metadata": {
        "id": "_P3bi16zonHv"
      },
      "source": [
        "**Feature engineering : One-hot encoding**"
      ]
    },
    {
      "cell_type": "code",
      "metadata": {
        "id": "QYTPXXa7rCZU"
      },
      "source": [
        "cat_dtype = [ 'jobType', 'degree', 'major', 'industry']\n",
        "num_dtype = ['yearsExperience', 'milesFromMetropolis', 'salary']\n",
        "# one-hot encode catergorical varaibles, drop_first to get k-1 dummies minus reference column which will be represented uniquely \n",
        "feat_dataset = pd.get_dummies(train_dataset[cat_dtype], drop_first=True) "
      ],
      "execution_count": null,
      "outputs": []
    },
    {
      "cell_type": "code",
      "metadata": {
        "id": "RfatJ67X0wK3",
        "colab": {
          "base_uri": "https://localhost:8080/",
          "height": 224
        },
        "outputId": "6a593bd8-bf2f-4270-d272-402e089d7edd"
      },
      "source": [
        "feat_dataset.head()"
      ],
      "execution_count": null,
      "outputs": [
        {
          "output_type": "execute_result",
          "data": {
            "text/html": [
              "<div>\n",
              "<style scoped>\n",
              "    .dataframe tbody tr th:only-of-type {\n",
              "        vertical-align: middle;\n",
              "    }\n",
              "\n",
              "    .dataframe tbody tr th {\n",
              "        vertical-align: top;\n",
              "    }\n",
              "\n",
              "    .dataframe thead th {\n",
              "        text-align: right;\n",
              "    }\n",
              "</style>\n",
              "<table border=\"1\" class=\"dataframe\">\n",
              "  <thead>\n",
              "    <tr style=\"text-align: right;\">\n",
              "      <th></th>\n",
              "      <th>jobType_JUNIOR</th>\n",
              "      <th>jobType_SENIOR</th>\n",
              "      <th>jobType_MANAGER</th>\n",
              "      <th>jobType_VICE_PRESIDENT</th>\n",
              "      <th>jobType_CFO</th>\n",
              "      <th>jobType_CTO</th>\n",
              "      <th>jobType_CEO</th>\n",
              "      <th>degree_HIGH_SCHOOL</th>\n",
              "      <th>degree_BACHELORS</th>\n",
              "      <th>degree_MASTERS</th>\n",
              "      <th>degree_DOCTORAL</th>\n",
              "      <th>major_LITERATURE</th>\n",
              "      <th>major_BIOLOGY</th>\n",
              "      <th>major_CHEMISTRY</th>\n",
              "      <th>major_PHYSICS</th>\n",
              "      <th>major_COMPSCI</th>\n",
              "      <th>major_MATH</th>\n",
              "      <th>major_BUSINESS</th>\n",
              "      <th>major_ENGINEERING</th>\n",
              "      <th>industry_SERVICE</th>\n",
              "      <th>industry_AUTO</th>\n",
              "      <th>industry_HEALTH</th>\n",
              "      <th>industry_WEB</th>\n",
              "      <th>industry_FINANCE</th>\n",
              "      <th>industry_OIL</th>\n",
              "    </tr>\n",
              "  </thead>\n",
              "  <tbody>\n",
              "    <tr>\n",
              "      <th>0</th>\n",
              "      <td>0</td>\n",
              "      <td>0</td>\n",
              "      <td>0</td>\n",
              "      <td>0</td>\n",
              "      <td>1</td>\n",
              "      <td>0</td>\n",
              "      <td>0</td>\n",
              "      <td>0</td>\n",
              "      <td>0</td>\n",
              "      <td>1</td>\n",
              "      <td>0</td>\n",
              "      <td>0</td>\n",
              "      <td>0</td>\n",
              "      <td>0</td>\n",
              "      <td>0</td>\n",
              "      <td>0</td>\n",
              "      <td>1</td>\n",
              "      <td>0</td>\n",
              "      <td>0</td>\n",
              "      <td>0</td>\n",
              "      <td>0</td>\n",
              "      <td>1</td>\n",
              "      <td>0</td>\n",
              "      <td>0</td>\n",
              "      <td>0</td>\n",
              "    </tr>\n",
              "    <tr>\n",
              "      <th>1</th>\n",
              "      <td>0</td>\n",
              "      <td>0</td>\n",
              "      <td>0</td>\n",
              "      <td>0</td>\n",
              "      <td>0</td>\n",
              "      <td>0</td>\n",
              "      <td>1</td>\n",
              "      <td>1</td>\n",
              "      <td>0</td>\n",
              "      <td>0</td>\n",
              "      <td>0</td>\n",
              "      <td>0</td>\n",
              "      <td>0</td>\n",
              "      <td>0</td>\n",
              "      <td>0</td>\n",
              "      <td>0</td>\n",
              "      <td>0</td>\n",
              "      <td>0</td>\n",
              "      <td>0</td>\n",
              "      <td>0</td>\n",
              "      <td>0</td>\n",
              "      <td>0</td>\n",
              "      <td>1</td>\n",
              "      <td>0</td>\n",
              "      <td>0</td>\n",
              "    </tr>\n",
              "    <tr>\n",
              "      <th>2</th>\n",
              "      <td>0</td>\n",
              "      <td>0</td>\n",
              "      <td>0</td>\n",
              "      <td>1</td>\n",
              "      <td>0</td>\n",
              "      <td>0</td>\n",
              "      <td>0</td>\n",
              "      <td>0</td>\n",
              "      <td>0</td>\n",
              "      <td>0</td>\n",
              "      <td>1</td>\n",
              "      <td>0</td>\n",
              "      <td>0</td>\n",
              "      <td>0</td>\n",
              "      <td>1</td>\n",
              "      <td>0</td>\n",
              "      <td>0</td>\n",
              "      <td>0</td>\n",
              "      <td>0</td>\n",
              "      <td>0</td>\n",
              "      <td>0</td>\n",
              "      <td>1</td>\n",
              "      <td>0</td>\n",
              "      <td>0</td>\n",
              "      <td>0</td>\n",
              "    </tr>\n",
              "    <tr>\n",
              "      <th>3</th>\n",
              "      <td>0</td>\n",
              "      <td>0</td>\n",
              "      <td>1</td>\n",
              "      <td>0</td>\n",
              "      <td>0</td>\n",
              "      <td>0</td>\n",
              "      <td>0</td>\n",
              "      <td>0</td>\n",
              "      <td>0</td>\n",
              "      <td>0</td>\n",
              "      <td>1</td>\n",
              "      <td>0</td>\n",
              "      <td>0</td>\n",
              "      <td>1</td>\n",
              "      <td>0</td>\n",
              "      <td>0</td>\n",
              "      <td>0</td>\n",
              "      <td>0</td>\n",
              "      <td>0</td>\n",
              "      <td>0</td>\n",
              "      <td>1</td>\n",
              "      <td>0</td>\n",
              "      <td>0</td>\n",
              "      <td>0</td>\n",
              "      <td>0</td>\n",
              "    </tr>\n",
              "    <tr>\n",
              "      <th>4</th>\n",
              "      <td>0</td>\n",
              "      <td>0</td>\n",
              "      <td>0</td>\n",
              "      <td>1</td>\n",
              "      <td>0</td>\n",
              "      <td>0</td>\n",
              "      <td>0</td>\n",
              "      <td>0</td>\n",
              "      <td>1</td>\n",
              "      <td>0</td>\n",
              "      <td>0</td>\n",
              "      <td>0</td>\n",
              "      <td>0</td>\n",
              "      <td>0</td>\n",
              "      <td>1</td>\n",
              "      <td>0</td>\n",
              "      <td>0</td>\n",
              "      <td>0</td>\n",
              "      <td>0</td>\n",
              "      <td>0</td>\n",
              "      <td>0</td>\n",
              "      <td>0</td>\n",
              "      <td>0</td>\n",
              "      <td>1</td>\n",
              "      <td>0</td>\n",
              "    </tr>\n",
              "  </tbody>\n",
              "</table>\n",
              "</div>"
            ],
            "text/plain": [
              "   jobType_JUNIOR  jobType_SENIOR  ...  industry_FINANCE  industry_OIL\n",
              "0               0               0  ...                 0             0\n",
              "1               0               0  ...                 0             0\n",
              "2               0               0  ...                 0             0\n",
              "3               0               0  ...                 0             0\n",
              "4               0               0  ...                 1             0\n",
              "\n",
              "[5 rows x 25 columns]"
            ]
          },
          "metadata": {},
          "execution_count": 102
        }
      ]
    },
    {
      "cell_type": "code",
      "metadata": {
        "id": "lilslUZuJ-aL"
      },
      "source": [
        "num_dtype = ['yearsExperience', 'milesFromMetropolis', 'salary']"
      ],
      "execution_count": null,
      "outputs": []
    },
    {
      "cell_type": "code",
      "metadata": {
        "id": "N60i-qclJ-ea"
      },
      "source": [
        "num_train_dataset = train_dataset[num_dtype]"
      ],
      "execution_count": null,
      "outputs": []
    },
    {
      "cell_type": "code",
      "metadata": {
        "id": "Btq7OdAHJ-iv",
        "colab": {
          "base_uri": "https://localhost:8080/",
          "height": 224
        },
        "outputId": "80f67264-a6f2-4ba1-e643-dc0f497df9fa"
      },
      "source": [
        "feat_train_dataset = pd.concat([feat_dataset, num_train_dataset], axis = 1)\n",
        "feat_train_dataset.head()"
      ],
      "execution_count": null,
      "outputs": [
        {
          "output_type": "execute_result",
          "data": {
            "text/html": [
              "<div>\n",
              "<style scoped>\n",
              "    .dataframe tbody tr th:only-of-type {\n",
              "        vertical-align: middle;\n",
              "    }\n",
              "\n",
              "    .dataframe tbody tr th {\n",
              "        vertical-align: top;\n",
              "    }\n",
              "\n",
              "    .dataframe thead th {\n",
              "        text-align: right;\n",
              "    }\n",
              "</style>\n",
              "<table border=\"1\" class=\"dataframe\">\n",
              "  <thead>\n",
              "    <tr style=\"text-align: right;\">\n",
              "      <th></th>\n",
              "      <th>jobType_JUNIOR</th>\n",
              "      <th>jobType_SENIOR</th>\n",
              "      <th>jobType_MANAGER</th>\n",
              "      <th>jobType_VICE_PRESIDENT</th>\n",
              "      <th>jobType_CFO</th>\n",
              "      <th>jobType_CTO</th>\n",
              "      <th>jobType_CEO</th>\n",
              "      <th>degree_HIGH_SCHOOL</th>\n",
              "      <th>degree_BACHELORS</th>\n",
              "      <th>degree_MASTERS</th>\n",
              "      <th>degree_DOCTORAL</th>\n",
              "      <th>major_LITERATURE</th>\n",
              "      <th>major_BIOLOGY</th>\n",
              "      <th>major_CHEMISTRY</th>\n",
              "      <th>major_PHYSICS</th>\n",
              "      <th>major_COMPSCI</th>\n",
              "      <th>major_MATH</th>\n",
              "      <th>major_BUSINESS</th>\n",
              "      <th>major_ENGINEERING</th>\n",
              "      <th>industry_SERVICE</th>\n",
              "      <th>industry_AUTO</th>\n",
              "      <th>industry_HEALTH</th>\n",
              "      <th>industry_WEB</th>\n",
              "      <th>industry_FINANCE</th>\n",
              "      <th>industry_OIL</th>\n",
              "      <th>yearsExperience</th>\n",
              "      <th>milesFromMetropolis</th>\n",
              "      <th>salary</th>\n",
              "    </tr>\n",
              "  </thead>\n",
              "  <tbody>\n",
              "    <tr>\n",
              "      <th>0</th>\n",
              "      <td>0</td>\n",
              "      <td>0</td>\n",
              "      <td>0</td>\n",
              "      <td>0</td>\n",
              "      <td>1</td>\n",
              "      <td>0</td>\n",
              "      <td>0</td>\n",
              "      <td>0</td>\n",
              "      <td>0</td>\n",
              "      <td>1</td>\n",
              "      <td>0</td>\n",
              "      <td>0</td>\n",
              "      <td>0</td>\n",
              "      <td>0</td>\n",
              "      <td>0</td>\n",
              "      <td>0</td>\n",
              "      <td>1</td>\n",
              "      <td>0</td>\n",
              "      <td>0</td>\n",
              "      <td>0</td>\n",
              "      <td>0</td>\n",
              "      <td>1</td>\n",
              "      <td>0</td>\n",
              "      <td>0</td>\n",
              "      <td>0</td>\n",
              "      <td>10</td>\n",
              "      <td>83</td>\n",
              "      <td>130</td>\n",
              "    </tr>\n",
              "    <tr>\n",
              "      <th>1</th>\n",
              "      <td>0</td>\n",
              "      <td>0</td>\n",
              "      <td>0</td>\n",
              "      <td>0</td>\n",
              "      <td>0</td>\n",
              "      <td>0</td>\n",
              "      <td>1</td>\n",
              "      <td>1</td>\n",
              "      <td>0</td>\n",
              "      <td>0</td>\n",
              "      <td>0</td>\n",
              "      <td>0</td>\n",
              "      <td>0</td>\n",
              "      <td>0</td>\n",
              "      <td>0</td>\n",
              "      <td>0</td>\n",
              "      <td>0</td>\n",
              "      <td>0</td>\n",
              "      <td>0</td>\n",
              "      <td>0</td>\n",
              "      <td>0</td>\n",
              "      <td>0</td>\n",
              "      <td>1</td>\n",
              "      <td>0</td>\n",
              "      <td>0</td>\n",
              "      <td>3</td>\n",
              "      <td>73</td>\n",
              "      <td>101</td>\n",
              "    </tr>\n",
              "    <tr>\n",
              "      <th>2</th>\n",
              "      <td>0</td>\n",
              "      <td>0</td>\n",
              "      <td>0</td>\n",
              "      <td>1</td>\n",
              "      <td>0</td>\n",
              "      <td>0</td>\n",
              "      <td>0</td>\n",
              "      <td>0</td>\n",
              "      <td>0</td>\n",
              "      <td>0</td>\n",
              "      <td>1</td>\n",
              "      <td>0</td>\n",
              "      <td>0</td>\n",
              "      <td>0</td>\n",
              "      <td>1</td>\n",
              "      <td>0</td>\n",
              "      <td>0</td>\n",
              "      <td>0</td>\n",
              "      <td>0</td>\n",
              "      <td>0</td>\n",
              "      <td>0</td>\n",
              "      <td>1</td>\n",
              "      <td>0</td>\n",
              "      <td>0</td>\n",
              "      <td>0</td>\n",
              "      <td>10</td>\n",
              "      <td>38</td>\n",
              "      <td>137</td>\n",
              "    </tr>\n",
              "    <tr>\n",
              "      <th>3</th>\n",
              "      <td>0</td>\n",
              "      <td>0</td>\n",
              "      <td>1</td>\n",
              "      <td>0</td>\n",
              "      <td>0</td>\n",
              "      <td>0</td>\n",
              "      <td>0</td>\n",
              "      <td>0</td>\n",
              "      <td>0</td>\n",
              "      <td>0</td>\n",
              "      <td>1</td>\n",
              "      <td>0</td>\n",
              "      <td>0</td>\n",
              "      <td>1</td>\n",
              "      <td>0</td>\n",
              "      <td>0</td>\n",
              "      <td>0</td>\n",
              "      <td>0</td>\n",
              "      <td>0</td>\n",
              "      <td>0</td>\n",
              "      <td>1</td>\n",
              "      <td>0</td>\n",
              "      <td>0</td>\n",
              "      <td>0</td>\n",
              "      <td>0</td>\n",
              "      <td>8</td>\n",
              "      <td>17</td>\n",
              "      <td>142</td>\n",
              "    </tr>\n",
              "    <tr>\n",
              "      <th>4</th>\n",
              "      <td>0</td>\n",
              "      <td>0</td>\n",
              "      <td>0</td>\n",
              "      <td>1</td>\n",
              "      <td>0</td>\n",
              "      <td>0</td>\n",
              "      <td>0</td>\n",
              "      <td>0</td>\n",
              "      <td>1</td>\n",
              "      <td>0</td>\n",
              "      <td>0</td>\n",
              "      <td>0</td>\n",
              "      <td>0</td>\n",
              "      <td>0</td>\n",
              "      <td>1</td>\n",
              "      <td>0</td>\n",
              "      <td>0</td>\n",
              "      <td>0</td>\n",
              "      <td>0</td>\n",
              "      <td>0</td>\n",
              "      <td>0</td>\n",
              "      <td>0</td>\n",
              "      <td>0</td>\n",
              "      <td>1</td>\n",
              "      <td>0</td>\n",
              "      <td>8</td>\n",
              "      <td>16</td>\n",
              "      <td>163</td>\n",
              "    </tr>\n",
              "  </tbody>\n",
              "</table>\n",
              "</div>"
            ],
            "text/plain": [
              "   jobType_JUNIOR  jobType_SENIOR  ...  milesFromMetropolis  salary\n",
              "0               0               0  ...                   83     130\n",
              "1               0               0  ...                   73     101\n",
              "2               0               0  ...                   38     137\n",
              "3               0               0  ...                   17     142\n",
              "4               0               0  ...                   16     163\n",
              "\n",
              "[5 rows x 28 columns]"
            ]
          },
          "metadata": {},
          "execution_count": 104
        }
      ]
    },
    {
      "cell_type": "code",
      "metadata": {
        "id": "mgPpaimoLSpc"
      },
      "source": [
        "# separate out feature engineered dataset into X and y for train test split\n",
        "X = feat_train_dataset.iloc[:, 0:27]\n",
        "y = feat_train_dataset.iloc[:, -1]"
      ],
      "execution_count": null,
      "outputs": []
    },
    {
      "cell_type": "code",
      "metadata": {
        "id": "RHc6ZJX11FNI"
      },
      "source": [
        " # split into train and test set\n",
        "from sklearn.model_selection import train_test_split\n",
        "X_train, X_test, y_train, y_test = train_test_split(X,y, test_size = 0.2, random_state = 1)"
      ],
      "execution_count": null,
      "outputs": []
    },
    {
      "cell_type": "markdown",
      "metadata": {
        "id": "j-cNszmwSA5l"
      },
      "source": [
        "**Linear Regression**"
      ]
    },
    {
      "cell_type": "code",
      "metadata": {
        "id": "1ikhOmgFM5wB"
      },
      "source": [
        "lin_regressor = LinearRegression()\n",
        "reg_model = lin_regressor.fit(X_train, y_train)"
      ],
      "execution_count": null,
      "outputs": []
    },
    {
      "cell_type": "code",
      "metadata": {
        "id": "g77H-hGxM5zY"
      },
      "source": [
        "# predicting the test results\n",
        "lin_pred = reg_model.predict(X_test)"
      ],
      "execution_count": null,
      "outputs": []
    },
    {
      "cell_type": "code",
      "metadata": {
        "id": "rlxfCt7oQJTd",
        "colab": {
          "base_uri": "https://localhost:8080/",
          "height": 295
        },
        "outputId": "a1effe97-25d6-4739-f34d-cfe3e91f99ac"
      },
      "source": [
        "# y_test vs lin_pred kde plot\n",
        "sns.kdeplot(y_test, color='blue', label = 'Actual Values')\n",
        "sns.kdeplot(lin_pred, color='red', label = 'Predicted Values')\n",
        "plt.title(\"Linear Regression : Actual vs Predicted Salary\")\n",
        "plt.savefig(\"lin_reg.png\")\n",
        "plt.legend()\n",
        "plt.show()"
      ],
      "execution_count": null,
      "outputs": [
        {
          "output_type": "display_data",
          "data": {
            "image/png": "[encoded data removed]",
            "text/plain": [
              "<Figure size 432x288 with 1 Axes>"
            ]
          },
          "metadata": {
            "needs_background": "light"
          }
        }
      ]
    },
    {
      "cell_type": "code",
      "metadata": {
        "id": "3V8A4oWsQeJU",
        "colab": {
          "base_uri": "https://localhost:8080/"
        },
        "outputId": "d57ba527-1f68-4e98-fc95-7ddce6e044d4"
      },
      "source": [
        "# R-Squared Error : a goodness of fit measures\n",
        "lin_r2 = metrics.r2_score(y_test, lin_pred)\n",
        "lin_r2"
      ],
      "execution_count": null,
      "outputs": [
        {
          "output_type": "execute_result",
          "data": {
            "text/plain": [
              "0.7444743898928083"
            ]
          },
          "metadata": {},
          "execution_count": 73
        }
      ]
    },
    {
      "cell_type": "code",
      "metadata": {
        "id": "_MU7fJKtM54E",
        "colab": {
          "base_uri": "https://localhost:8080/"
        },
        "outputId": "43a2db76-870b-4d49-ef80-04b88b10368a"
      },
      "source": [
        "# compute mean squared error(mse)\n",
        "reg_mse = mean_squared_error(y_test, lin_pred)\n",
        "print(reg_mse)"
      ],
      "execution_count": null,
      "outputs": [
        {
          "output_type": "stream",
          "name": "stdout",
          "text": [
            "384.8298871142759\n"
          ]
        }
      ]
    },
    {
      "cell_type": "markdown",
      "metadata": {
        "id": "b-ekNRyCT1c1"
      },
      "source": [
        "**Random Forest**"
      ]
    },
    {
      "cell_type": "code",
      "metadata": {
        "id": "5nVinaxgTupK"
      },
      "source": [
        "rf_regressor = RandomForestRegressor( n_estimators=150, max_depth=30,n_jobs=2,max_features=25, verbose=0, min_samples_split=60)\n",
        "rf_model = rf_regressor.fit(X_train,y_train)\n",
        "rf_pred = rf_model.predict(X_test)\n",
        "rf_mse = mean_squared_error(y_test,rf_pred)"
      ],
      "execution_count": null,
      "outputs": []
    },
    {
      "cell_type": "code",
      "metadata": {
        "id": "Via3IJQATus5",
        "colab": {
          "base_uri": "https://localhost:8080/"
        },
        "outputId": "22057de8-850b-4f12-fa83-9cc1bb734d14"
      },
      "source": [
        "rf_mse"
      ],
      "execution_count": null,
      "outputs": [
        {
          "output_type": "execute_result",
          "data": {
            "text/plain": [
              "370.9013305559878"
            ]
          },
          "metadata": {},
          "execution_count": 76
        }
      ]
    },
    {
      "cell_type": "code",
      "metadata": {
        "id": "hpzYRCOJGYPU",
        "colab": {
          "base_uri": "https://localhost:8080/"
        },
        "outputId": "655e856f-90c7-4368-c1da-f488540d3ef0"
      },
      "source": [
        "rf_r2 = metrics.r2_score(y_test, rf_pred)\n",
        "rf_r2"
      ],
      "execution_count": null,
      "outputs": [
        {
          "output_type": "execute_result",
          "data": {
            "text/plain": [
              "0.7537228995113251"
            ]
          },
          "metadata": {},
          "execution_count": 77
        }
      ]
    },
    {
      "cell_type": "code",
      "metadata": {
        "id": "-GRuc-VUCiDq",
        "colab": {
          "base_uri": "https://localhost:8080/",
          "height": 295
        },
        "outputId": "2772203c-7a83-40ed-8eeb-15ede56724f1"
      },
      "source": [
        "# y_test vs rf_pred kde plot\n",
        "sns.kdeplot(y_test, color='blue', label = 'Actual Values')\n",
        "sns.kdeplot(rf_pred, color='red', label = 'Predicted Values')\n",
        "plt.title(\"Random Forest : Actual vs Predicted Salary\")\n",
        "plt.savefig(\"rf_reg.png\")\n",
        "plt.legend()\n",
        "plt.show()"
      ],
      "execution_count": null,
      "outputs": [
        {
          "output_type": "display_data",
          "data": {
            "image/png": "[encoded data removed]",
            "text/plain": [
              "<Figure size 432x288 with 1 Axes>"
            ]
          },
          "metadata": {
            "needs_background": "light"
          }
        }
      ]
    },
    {
      "cell_type": "markdown",
      "metadata": {
        "id": "Pfw3UpgDVCs8"
      },
      "source": [
        "**Gradient Boosting**"
      ]
    },
    {
      "cell_type": "code",
      "metadata": {
        "id": "qA1B1YDfVJbo",
        "colab": {
          "base_uri": "https://localhost:8080/"
        },
        "outputId": "589bd3e9-8202-4f3d-9bc3-713d98127723"
      },
      "source": [
        "gb_reg = GradientBoostingRegressor( n_estimators=150, max_depth=8, loss='ls', verbose=0)\n",
        "gb_model = gb_reg.fit(X_train,y_train)\n",
        "gb_pred = gb_model.predict(X_test)\n",
        "gb_mse = mean_squared_error(y_test, gb_pred)\n",
        "gb_mse"
      ],
      "execution_count": null,
      "outputs": [
        {
          "output_type": "execute_result",
          "data": {
            "text/plain": [
              "359.2901724572622"
            ]
          },
          "metadata": {},
          "execution_count": 80
        }
      ]
    },
    {
      "cell_type": "code",
      "metadata": {
        "id": "1XlnFvjPGcup",
        "colab": {
          "base_uri": "https://localhost:8080/"
        },
        "outputId": "d17ac3a9-4906-409d-fc0a-ca01d0382db4"
      },
      "source": [
        "gb_r2 = metrics.r2_score(y_test, gb_pred)\n",
        "gb_r2"
      ],
      "execution_count": null,
      "outputs": [
        {
          "output_type": "execute_result",
          "data": {
            "text/plain": [
              "0.7614326651937053"
            ]
          },
          "metadata": {},
          "execution_count": 81
        }
      ]
    },
    {
      "cell_type": "code",
      "metadata": {
        "id": "spkiTRTTDNEP",
        "colab": {
          "base_uri": "https://localhost:8080/",
          "height": 295
        },
        "outputId": "43831382-7741-4858-b659-727ecbc49d8d"
      },
      "source": [
        "# y_test vs gb_pred kde plot\n",
        "sns.kdeplot(y_test, color='blue', label = 'Actual Values')\n",
        "sns.kdeplot(gb_pred, color='red', label = 'Predicted Values')\n",
        "plt.title(\"Gradient Boosting : Actual vs Predicted Salary\")\n",
        "plt.savefig(\"gb_reg.png\")\n",
        "plt.legend()\n",
        "plt.show()"
      ],
      "execution_count": null,
      "outputs": [
        {
          "output_type": "display_data",
          "data": {
            "image/png": "[encoded data removed]",
            "text/plain": [
              "<Figure size 432x288 with 1 Axes>"
            ]
          },
          "metadata": {
            "needs_background": "light"
          }
        }
      ]
    },
    {
      "cell_type": "markdown",
      "metadata": {
        "id": "zZuoL99kenSn"
      },
      "source": [
        "**Apply 5-fold cross validations on models and check MSE**"
      ]
    },
    {
      "cell_type": "code",
      "metadata": {
        "id": "IjsFhy_SVJj9",
        "colab": {
          "base_uri": "https://localhost:8080/"
        },
        "outputId": "94f048ae-966e-4422-a504-fce4bc015006"
      },
      "source": [
        "reg_cv_mse=-1 *np.mean(cross_val_score(lin_regressor, X_test, y_test, cv = 5, scoring=\"neg_mean_squared_error\" ))\n",
        "reg_cv_mse"
      ],
      "execution_count": null,
      "outputs": [
        {
          "output_type": "execute_result",
          "data": {
            "text/plain": [
              "384.93352565712246"
            ]
          },
          "metadata": {},
          "execution_count": 84
        }
      ]
    },
    {
      "cell_type": "code",
      "metadata": {
        "id": "CKkJU4erVJq_",
        "colab": {
          "base_uri": "https://localhost:8080/"
        },
        "outputId": "f022303d-ef40-4046-d223-4c8526fad2dc"
      },
      "source": [
        "rf_cv_mse = -1*np.mean(cross_val_score(rf_regressor, X_test, y_test, cv=5, scoring =\"neg_mean_squared_error\"))\n",
        "rf_cv_mse"
      ],
      "execution_count": null,
      "outputs": [
        {
          "output_type": "execute_result",
          "data": {
            "text/plain": [
              "390.0169302477892"
            ]
          },
          "metadata": {},
          "execution_count": 85
        }
      ]
    },
    {
      "cell_type": "code",
      "metadata": {
        "id": "SOOo3CffeKmm",
        "colab": {
          "base_uri": "https://localhost:8080/"
        },
        "outputId": "8dd97d5a-4673-4889-a2cc-1861a94c93a0"
      },
      "source": [
        "gb_cv_mse = -1*np.mean(cross_val_score(gb_reg, X_test, y_test, cv=5, scoring = \"neg_mean_squared_error\"))\n",
        "gb_cv_mse"
      ],
      "execution_count": null,
      "outputs": [
        {
          "output_type": "execute_result",
          "data": {
            "text/plain": [
              "367.85545134312406"
            ]
          },
          "metadata": {},
          "execution_count": 86
        }
      ]
    },
    {
      "cell_type": "markdown",
      "metadata": {
        "id": "wNDnrrFEhV9L"
      },
      "source": [
        "**Select the best model**"
      ]
    },
    {
      "cell_type": "code",
      "metadata": {
        "id": "JMjo8OOveMMj",
        "colab": {
          "base_uri": "https://localhost:8080/",
          "height": 159
        },
        "outputId": "612b46ff-1b2c-4926-e69b-bdfb06196e19"
      },
      "source": [
        "model_mse_r2 = {\n",
        "    'Linear Regression' : [round(reg_mse,2),round(reg_cv_mse,2), round(lin_r2,2)],\n",
        "    'Random Forest' : [round(rf_mse,2),round(rf_cv_mse,2),round(rf_r2,2)],\n",
        "    'Gradient Boosting' : [round(gb_mse,2),round(gb_cv_mse,2), round(gb_r2,2)]\n",
        "}\n",
        "mse_r2_df = pd.DataFrame(model_mse_r2, index=['Without CV', 'With CV', 'R-Squared'])\n",
        "mse_r2_df"
      ],
      "execution_count": null,
      "outputs": [
        {
          "output_type": "execute_result",
          "data": {
            "text/html": [
              "<div>\n",
              "<style scoped>\n",
              "    .dataframe tbody tr th:only-of-type {\n",
              "        vertical-align: middle;\n",
              "    }\n",
              "\n",
              "    .dataframe tbody tr th {\n",
              "        vertical-align: top;\n",
              "    }\n",
              "\n",
              "    .dataframe thead th {\n",
              "        text-align: right;\n",
              "    }\n",
              "</style>\n",
              "<table border=\"1\" class=\"dataframe\">\n",
              "  <thead>\n",
              "    <tr style=\"text-align: right;\">\n",
              "      <th></th>\n",
              "      <th>Linear Regression</th>\n",
              "      <th>Random Forest</th>\n",
              "      <th>Gradient Boosting</th>\n",
              "    </tr>\n",
              "  </thead>\n",
              "  <tbody>\n",
              "    <tr>\n",
              "      <th>Without CV</th>\n",
              "      <td>384.83</td>\n",
              "      <td>370.90</td>\n",
              "      <td>359.29</td>\n",
              "    </tr>\n",
              "    <tr>\n",
              "      <th>With CV</th>\n",
              "      <td>384.93</td>\n",
              "      <td>390.02</td>\n",
              "      <td>367.86</td>\n",
              "    </tr>\n",
              "    <tr>\n",
              "      <th>R-Squared</th>\n",
              "      <td>0.74</td>\n",
              "      <td>0.75</td>\n",
              "      <td>0.76</td>\n",
              "    </tr>\n",
              "  </tbody>\n",
              "</table>\n",
              "</div>"
            ],
            "text/plain": [
              "            Linear Regression  Random Forest  Gradient Boosting\n",
              "Without CV             384.83         370.90             359.29\n",
              "With CV                384.93         390.02             367.86\n",
              "R-Squared                0.74           0.75               0.76"
            ]
          },
          "metadata": {},
          "execution_count": 97
        },
        {
          "output_type": "display_data",
          "data": {
            "text/plain": [
              "<Figure size 432x288 with 0 Axes>"
            ]
          },
          "metadata": {}
        }
      ]
    },
    {
      "cell_type": "markdown",
      "metadata": {
        "id": "7ab-aLHwk2yz"
      },
      "source": [
        "The best model is Gradient Boosting Regressor based on mean squared error and r-squared value. "
      ]
    },
    {
      "cell_type": "markdown",
      "metadata": {
        "id": "mLRKqpOxlAil"
      },
      "source": [
        "# Deploy"
      ]
    },
    {
      "cell_type": "markdown",
      "metadata": {
        "id": "Tr9OaetU68MS"
      },
      "source": [
        "**Use Gradient Boosting Regressor on test set**"
      ]
    },
    {
      "cell_type": "code",
      "metadata": {
        "id": "UEqGeIhB8bvk",
        "colab": {
          "base_uri": "https://localhost:8080/",
          "height": 224
        },
        "outputId": "21ad7c0f-018e-4569-d4ce-6e0633334e3b"
      },
      "source": [
        "# prepare test set for prediction\n",
        "cat_test = [ 'jobType', 'degree', 'major', 'industry']\n",
        "num_test = ['yearsExperience', 'milesFromMetropolis']\n",
        "# one-hot encode catergorical varaibles, drop_first to get k-1 dummies minus reference column which will be represented uniquely \n",
        "onehot_test = pd.get_dummies(test_features[cat_test], drop_first=True) \n",
        "num_test_dataset = test_features[num_test]\n",
        "feat_test_dataset = pd.concat([onehot_test, num_test_dataset], axis = 1)\n",
        "feat_test_dataset.head()\n"
      ],
      "execution_count": null,
      "outputs": [
        {
          "output_type": "execute_result",
          "data": {
            "text/html": [
              "<div>\n",
              "<style scoped>\n",
              "    .dataframe tbody tr th:only-of-type {\n",
              "        vertical-align: middle;\n",
              "    }\n",
              "\n",
              "    .dataframe tbody tr th {\n",
              "        vertical-align: top;\n",
              "    }\n",
              "\n",
              "    .dataframe thead th {\n",
              "        text-align: right;\n",
              "    }\n",
              "</style>\n",
              "<table border=\"1\" class=\"dataframe\">\n",
              "  <thead>\n",
              "    <tr style=\"text-align: right;\">\n",
              "      <th></th>\n",
              "      <th>jobType_CFO</th>\n",
              "      <th>jobType_CTO</th>\n",
              "      <th>jobType_JANITOR</th>\n",
              "      <th>jobType_JUNIOR</th>\n",
              "      <th>jobType_MANAGER</th>\n",
              "      <th>jobType_SENIOR</th>\n",
              "      <th>jobType_VICE_PRESIDENT</th>\n",
              "      <th>degree_DOCTORAL</th>\n",
              "      <th>degree_HIGH_SCHOOL</th>\n",
              "      <th>degree_MASTERS</th>\n",
              "      <th>degree_NONE</th>\n",
              "      <th>major_BUSINESS</th>\n",
              "      <th>major_CHEMISTRY</th>\n",
              "      <th>major_COMPSCI</th>\n",
              "      <th>major_ENGINEERING</th>\n",
              "      <th>major_LITERATURE</th>\n",
              "      <th>major_MATH</th>\n",
              "      <th>major_NONE</th>\n",
              "      <th>major_PHYSICS</th>\n",
              "      <th>industry_EDUCATION</th>\n",
              "      <th>industry_FINANCE</th>\n",
              "      <th>industry_HEALTH</th>\n",
              "      <th>industry_OIL</th>\n",
              "      <th>industry_SERVICE</th>\n",
              "      <th>industry_WEB</th>\n",
              "      <th>yearsExperience</th>\n",
              "      <th>milesFromMetropolis</th>\n",
              "    </tr>\n",
              "  </thead>\n",
              "  <tbody>\n",
              "    <tr>\n",
              "      <th>0</th>\n",
              "      <td>0</td>\n",
              "      <td>0</td>\n",
              "      <td>0</td>\n",
              "      <td>0</td>\n",
              "      <td>1</td>\n",
              "      <td>0</td>\n",
              "      <td>0</td>\n",
              "      <td>0</td>\n",
              "      <td>1</td>\n",
              "      <td>0</td>\n",
              "      <td>0</td>\n",
              "      <td>0</td>\n",
              "      <td>0</td>\n",
              "      <td>0</td>\n",
              "      <td>0</td>\n",
              "      <td>0</td>\n",
              "      <td>0</td>\n",
              "      <td>1</td>\n",
              "      <td>0</td>\n",
              "      <td>0</td>\n",
              "      <td>0</td>\n",
              "      <td>1</td>\n",
              "      <td>0</td>\n",
              "      <td>0</td>\n",
              "      <td>0</td>\n",
              "      <td>22</td>\n",
              "      <td>73</td>\n",
              "    </tr>\n",
              "    <tr>\n",
              "      <th>1</th>\n",
              "      <td>0</td>\n",
              "      <td>0</td>\n",
              "      <td>0</td>\n",
              "      <td>1</td>\n",
              "      <td>0</td>\n",
              "      <td>0</td>\n",
              "      <td>0</td>\n",
              "      <td>0</td>\n",
              "      <td>0</td>\n",
              "      <td>0</td>\n",
              "      <td>1</td>\n",
              "      <td>0</td>\n",
              "      <td>0</td>\n",
              "      <td>0</td>\n",
              "      <td>0</td>\n",
              "      <td>0</td>\n",
              "      <td>0</td>\n",
              "      <td>1</td>\n",
              "      <td>0</td>\n",
              "      <td>0</td>\n",
              "      <td>0</td>\n",
              "      <td>0</td>\n",
              "      <td>0</td>\n",
              "      <td>0</td>\n",
              "      <td>0</td>\n",
              "      <td>20</td>\n",
              "      <td>47</td>\n",
              "    </tr>\n",
              "    <tr>\n",
              "      <th>2</th>\n",
              "      <td>0</td>\n",
              "      <td>1</td>\n",
              "      <td>0</td>\n",
              "      <td>0</td>\n",
              "      <td>0</td>\n",
              "      <td>0</td>\n",
              "      <td>0</td>\n",
              "      <td>0</td>\n",
              "      <td>0</td>\n",
              "      <td>1</td>\n",
              "      <td>0</td>\n",
              "      <td>0</td>\n",
              "      <td>0</td>\n",
              "      <td>0</td>\n",
              "      <td>0</td>\n",
              "      <td>0</td>\n",
              "      <td>0</td>\n",
              "      <td>0</td>\n",
              "      <td>0</td>\n",
              "      <td>0</td>\n",
              "      <td>0</td>\n",
              "      <td>1</td>\n",
              "      <td>0</td>\n",
              "      <td>0</td>\n",
              "      <td>0</td>\n",
              "      <td>17</td>\n",
              "      <td>9</td>\n",
              "    </tr>\n",
              "    <tr>\n",
              "      <th>3</th>\n",
              "      <td>0</td>\n",
              "      <td>0</td>\n",
              "      <td>0</td>\n",
              "      <td>0</td>\n",
              "      <td>1</td>\n",
              "      <td>0</td>\n",
              "      <td>0</td>\n",
              "      <td>0</td>\n",
              "      <td>1</td>\n",
              "      <td>0</td>\n",
              "      <td>0</td>\n",
              "      <td>0</td>\n",
              "      <td>0</td>\n",
              "      <td>0</td>\n",
              "      <td>0</td>\n",
              "      <td>0</td>\n",
              "      <td>0</td>\n",
              "      <td>1</td>\n",
              "      <td>0</td>\n",
              "      <td>0</td>\n",
              "      <td>0</td>\n",
              "      <td>0</td>\n",
              "      <td>1</td>\n",
              "      <td>0</td>\n",
              "      <td>0</td>\n",
              "      <td>14</td>\n",
              "      <td>96</td>\n",
              "    </tr>\n",
              "    <tr>\n",
              "      <th>4</th>\n",
              "      <td>0</td>\n",
              "      <td>0</td>\n",
              "      <td>0</td>\n",
              "      <td>1</td>\n",
              "      <td>0</td>\n",
              "      <td>0</td>\n",
              "      <td>0</td>\n",
              "      <td>1</td>\n",
              "      <td>0</td>\n",
              "      <td>0</td>\n",
              "      <td>0</td>\n",
              "      <td>0</td>\n",
              "      <td>0</td>\n",
              "      <td>0</td>\n",
              "      <td>0</td>\n",
              "      <td>0</td>\n",
              "      <td>0</td>\n",
              "      <td>0</td>\n",
              "      <td>0</td>\n",
              "      <td>0</td>\n",
              "      <td>0</td>\n",
              "      <td>0</td>\n",
              "      <td>1</td>\n",
              "      <td>0</td>\n",
              "      <td>0</td>\n",
              "      <td>10</td>\n",
              "      <td>44</td>\n",
              "    </tr>\n",
              "  </tbody>\n",
              "</table>\n",
              "</div>"
            ],
            "text/plain": [
              "   jobType_CFO  jobType_CTO  ...  yearsExperience  milesFromMetropolis\n",
              "0            0            0  ...               22                   73\n",
              "1            0            0  ...               20                   47\n",
              "2            0            1  ...               17                    9\n",
              "3            0            0  ...               14                   96\n",
              "4            0            0  ...               10                   44\n",
              "\n",
              "[5 rows x 27 columns]"
            ]
          },
          "metadata": {},
          "execution_count": 89
        }
      ]
    },
    {
      "cell_type": "markdown",
      "metadata": {
        "id": "1rfdf1fPEyzx"
      },
      "source": [
        "**Predict Salaries**"
      ]
    },
    {
      "cell_type": "code",
      "metadata": {
        "id": "gUjTTLbt8b9-",
        "colab": {
          "base_uri": "https://localhost:8080/",
          "height": 204
        },
        "outputId": "53ef9518-edee-4a12-a4f2-0dc1f8745c9d"
      },
      "source": [
        "# Make prediction and match with Job ID\n",
        "pred_test = gb_model.predict(feat_test_dataset)\n",
        "pred_salaries = pd.DataFrame(pred_test, columns=['Predicted Salaries'])\n",
        "pred_salaries_withID = pd.concat([test_features['jobId'], pred_salaries], axis = 1)\n",
        "# save predicted salaries in csv\n",
        "pred_salaries_withID.to_csv(\"predicted_salary.csv\", index= False)\n",
        "pred_salaries_withID.head()\n"
      ],
      "execution_count": null,
      "outputs": [
        {
          "output_type": "execute_result",
          "data": {
            "text/html": [
              "<div>\n",
              "<style scoped>\n",
              "    .dataframe tbody tr th:only-of-type {\n",
              "        vertical-align: middle;\n",
              "    }\n",
              "\n",
              "    .dataframe tbody tr th {\n",
              "        vertical-align: top;\n",
              "    }\n",
              "\n",
              "    .dataframe thead th {\n",
              "        text-align: right;\n",
              "    }\n",
              "</style>\n",
              "<table border=\"1\" class=\"dataframe\">\n",
              "  <thead>\n",
              "    <tr style=\"text-align: right;\">\n",
              "      <th></th>\n",
              "      <th>jobId</th>\n",
              "      <th>Predicted Salaries</th>\n",
              "    </tr>\n",
              "  </thead>\n",
              "  <tbody>\n",
              "    <tr>\n",
              "      <th>0</th>\n",
              "      <td>JOB1362685407687</td>\n",
              "      <td>143.616818</td>\n",
              "    </tr>\n",
              "    <tr>\n",
              "      <th>1</th>\n",
              "      <td>JOB1362685407688</td>\n",
              "      <td>136.165907</td>\n",
              "    </tr>\n",
              "    <tr>\n",
              "      <th>2</th>\n",
              "      <td>JOB1362685407689</td>\n",
              "      <td>138.483950</td>\n",
              "    </tr>\n",
              "    <tr>\n",
              "      <th>3</th>\n",
              "      <td>JOB1362685407690</td>\n",
              "      <td>123.974814</td>\n",
              "    </tr>\n",
              "    <tr>\n",
              "      <th>4</th>\n",
              "      <td>JOB1362685407691</td>\n",
              "      <td>120.640703</td>\n",
              "    </tr>\n",
              "  </tbody>\n",
              "</table>\n",
              "</div>"
            ],
            "text/plain": [
              "              jobId  Predicted Salaries\n",
              "0  JOB1362685407687          143.616818\n",
              "1  JOB1362685407688          136.165907\n",
              "2  JOB1362685407689          138.483950\n",
              "3  JOB1362685407690          123.974814\n",
              "4  JOB1362685407691          120.640703"
            ]
          },
          "metadata": {},
          "execution_count": 101
        }
      ]
    },
    {
      "cell_type": "markdown",
      "metadata": {
        "id": "WELoxyZGFlEd"
      },
      "source": [
        "**Feature Importance**"
      ]
    },
    {
      "cell_type": "code",
      "metadata": {
        "id": "hjT6aty-FHS3"
      },
      "source": [
        "# create object using the best selected model\n",
        "feat_importance =pd.DataFrame({'Features':feat_test_dataset.columns, 'Importance':gb_model.feature_importances_})"
      ],
      "execution_count": null,
      "outputs": []
    },
    {
      "cell_type": "code",
      "metadata": {
        "id": "XxMDvMCXFHWL"
      },
      "source": [
        "feat_importance.sort_values(by='Importance', ascending=False, inplace=True)"
      ],
      "execution_count": null,
      "outputs": []
    },
    {
      "cell_type": "code",
      "metadata": {
        "id": "dtRer09bHRvY",
        "colab": {
          "base_uri": "https://localhost:8080/",
          "height": 893
        },
        "outputId": "94c888ce-055f-42da-b151-0e1108d93c74"
      },
      "source": [
        "plt.figure(figsize=(18,15))\n",
        "sns.barplot(x='Importance', y='Features', data=feat_importance)\n",
        "plt.title(\"Feature Importance for Test Set\")\n",
        "plt.savefig(\"feature_importance.png\")\n",
        "plt.show()"
      ],
      "execution_count": null,
      "outputs": [
        {
          "output_type": "display_data",
          "data": {
            "image/png": "[encoded data removed]",
            "text/plain": [
              "<Figure size 1296x1080 with 1 Axes>"
            ]
          },
          "metadata": {
            "needs_background": "light"
          }
        }
      ]
    }
  ]
}